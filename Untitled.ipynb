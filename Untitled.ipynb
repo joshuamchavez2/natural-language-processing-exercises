{
 "cells": [
  {
   "cell_type": "code",
   "execution_count": 1,
   "id": "292ba840",
   "metadata": {},
   "outputs": [],
   "source": [
    "import requests\n",
    "from bs4 import BeautifulSoup \n",
    "import pandas as pd"
   ]
  },
  {
   "cell_type": "markdown",
   "id": "3e635b8f",
   "metadata": {},
   "source": [
    "## Codeup Blog Articles Visit Codeup's Blog and record the urls for at least 5 distinct blog posts. For each post, you should scrape at least the post's title and content.  Encapsulate your work in a function named get_blog_articles that will return a list of dictionaries, with each dictionary representing one article. The shape of each dictionary should look like this:"
   ]
  },
  {
   "cell_type": "code",
   "execution_count": 162,
   "id": "71c94164",
   "metadata": {},
   "outputs": [],
   "source": [
    "response = requests.get('https://codeup.com/blog/', headers={'user-agent': 'Codeup DS Germain'})\n",
    "html = response.text\n",
    "\n",
    "soup = BeautifulSoup(html)"
   ]
  },
  {
   "cell_type": "code",
   "execution_count": 89,
   "id": "e8c25570",
   "metadata": {},
   "outputs": [],
   "source": [
    "blogs = soup.select('.et_pb_post.clearfix')"
   ]
  },
  {
   "cell_type": "code",
   "execution_count": 90,
   "id": "cd48e457",
   "metadata": {},
   "outputs": [
    {
     "data": {
      "text/plain": [
       "18"
      ]
     },
     "execution_count": 90,
     "metadata": {},
     "output_type": "execute_result"
    }
   ],
   "source": [
    "len(blogs)"
   ]
  },
  {
   "cell_type": "code",
   "execution_count": 106,
   "id": "3cc42bd5",
   "metadata": {},
   "outputs": [
    {
     "data": {
      "text/plain": [
       "<article class=\"et_pb_post clearfix et_pb_blog_item_0_0 post-16849 post type-post status-publish format-standard has-post-thumbnail hentry category-alumni-stories\" id=\"post-16849\">\n",
       "<a class=\"entry-featured-image-url\" href=\"https://codeup.com/alumni-stories/from-speech-pathology-to-business-intelligence/\"><img alt=\"From Speech Pathology to Business Intelligence\" class=\"\" height=\"675\" loading=\"lazy\" sizes=\"(min-width: 0px) and (max-width: 480px) 480px, (min-width: 481px) and (max-width: 980px) 980px, (min-width: 981px) 1080px, 100vw\" src=\"https://199lj33nqk3p88xz03dvn481-wpengine.netdna-ssl.com/wp-content/uploads/2021/10/1200x628_BlogPost-02-Alicia-Success-Story-1080x629.png\" srcset=\"https://199lj33nqk3p88xz03dvn481-wpengine.netdna-ssl.com/wp-content/uploads/2021/10/1200x628_BlogPost-02-Alicia-Success-Story-1080x629.png 1080w, https://199lj33nqk3p88xz03dvn481-wpengine.netdna-ssl.com/wp-content/uploads/2021/10/1200x628_BlogPost-02-Alicia-Success-Story-980x514.png 980w, https://199lj33nqk3p88xz03dvn481-wpengine.netdna-ssl.com/wp-content/uploads/2021/10/1200x628_BlogPost-02-Alicia-Success-Story-480x252.png 480w\" width=\"1080\"/></a>\n",
       "<h2 class=\"entry-title\"><a href=\"https://codeup.com/alumni-stories/from-speech-pathology-to-business-intelligence/\">From Speech Pathology to Business Intelligence</a></h2>\n",
       "<p class=\"post-meta\"><span class=\"published\">Oct 18, 2021</span> | <a href=\"https://codeup.com/category/alumni-stories/\" rel=\"tag\">Alumni Stories</a></p><div class=\"post-content\"><div class=\"post-content-inner\"><p>By: Alicia Gonzalez Before Codeup, I was a home health Speech-Language Pathologist Assistant. I would go from home to...</p>\n",
       "</div></div>\n",
       "</article>"
      ]
     },
     "execution_count": 106,
     "metadata": {},
     "output_type": "execute_result"
    }
   ],
   "source": [
    "blogs[0]"
   ]
  },
  {
   "cell_type": "code",
   "execution_count": 154,
   "id": "092b5d20",
   "metadata": {},
   "outputs": [],
   "source": [
    "def process_article(article):\n",
    "    title  = article.h2.text\n",
    "    link = article.h2.a['href']\n",
    "    \n",
    "    response = requests.get(link, headers={'user-agent': 'Codeup DS Germain'})\n",
    "    html = response.text\n",
    "    soup2 = BeautifulSoup(html)\n",
    "    body = soup2.select('.et_pb_module.et_pb_post_content.et_pb_post_content_0_tb_body')[0]\n",
    "    \n",
    "    content = ''\n",
    "    \n",
    "    for p in body:\n",
    "        content += str(p)\n",
    "    \n",
    "    return {\n",
    "        'title': title,\n",
    "        'link': link,\n",
    "        'content': content\n",
    "    }"
   ]
  },
  {
   "cell_type": "code",
   "execution_count": 155,
   "id": "4e3a461c",
   "metadata": {},
   "outputs": [],
   "source": [
    "blogs = soup.select('.et_pb_post.clearfix')\n",
    "df = pd.DataFrame([process_article(blog) for blog in blogs])"
   ]
  },
  {
   "cell_type": "code",
   "execution_count": 158,
   "id": "7585e968",
   "metadata": {},
   "outputs": [
    {
     "data": {
      "text/html": [
       "<div>\n",
       "<style scoped>\n",
       "    .dataframe tbody tr th:only-of-type {\n",
       "        vertical-align: middle;\n",
       "    }\n",
       "\n",
       "    .dataframe tbody tr th {\n",
       "        vertical-align: top;\n",
       "    }\n",
       "\n",
       "    .dataframe thead th {\n",
       "        text-align: right;\n",
       "    }\n",
       "</style>\n",
       "<table border=\"1\" class=\"dataframe\">\n",
       "  <thead>\n",
       "    <tr style=\"text-align: right;\">\n",
       "      <th></th>\n",
       "      <th>title</th>\n",
       "      <th>link</th>\n",
       "      <th>content</th>\n",
       "    </tr>\n",
       "  </thead>\n",
       "  <tbody>\n",
       "    <tr>\n",
       "      <th>0</th>\n",
       "      <td>From Speech Pathology to Business Intelligence</td>\n",
       "      <td>https://codeup.com/alumni-stories/from-speech-...</td>\n",
       "      <td>\\n&lt;p&gt;By: Alicia Gonzalez&lt;/p&gt;\\n&lt;p&gt;Before Codeup...</td>\n",
       "    </tr>\n",
       "    <tr>\n",
       "      <th>1</th>\n",
       "      <td>Boris – Behind the Billboards</td>\n",
       "      <td>https://codeup.com/behind-the-billboards/boris...</td>\n",
       "      <td>\\n&lt;p&gt;&lt;iframe allow=\"accelerometer; autoplay; c...</td>\n",
       "    </tr>\n",
       "    <tr>\n",
       "      <th>2</th>\n",
       "      <td>Is Codeup the Best Bootcamp in San Antonio…or ...</td>\n",
       "      <td>https://codeup.com/codeup-news/is-codeup-the-b...</td>\n",
       "      <td>\\n&lt;p&gt;Looking for the best data science bootcam...</td>\n",
       "    </tr>\n",
       "    <tr>\n",
       "      <th>3</th>\n",
       "      <td>Codeup Launches First Podcast: Hire Tech</td>\n",
       "      <td>https://codeup.com/codeup-news/codeup-launches...</td>\n",
       "      <td>\\n&lt;p&gt;Any podcast enthusiasts out there? We are...</td>\n",
       "    </tr>\n",
       "    <tr>\n",
       "      <th>4</th>\n",
       "      <td>Why Should I Become a System Administrator?</td>\n",
       "      <td>https://codeup.com/tips-for-prospective-studen...</td>\n",
       "      <td>\\n&lt;p&gt;With so many tech careers in demand, why ...</td>\n",
       "    </tr>\n",
       "    <tr>\n",
       "      <th>5</th>\n",
       "      <td>Announcing our Candidacy for Accreditation!</td>\n",
       "      <td>https://codeup.com/codeup-news/codeup-candidat...</td>\n",
       "      <td>\\n&lt;p&gt;Did you know that even though we’re an in...</td>\n",
       "    </tr>\n",
       "    <tr>\n",
       "      <th>6</th>\n",
       "      <td>Codeup Takes Over More of the Historic Vogue B...</td>\n",
       "      <td>https://codeup.com/codeup-news/codeup-takes-ov...</td>\n",
       "      <td>\\n&lt;p&gt;Codeup is moving into another floor of ou...</td>\n",
       "    </tr>\n",
       "    <tr>\n",
       "      <th>7</th>\n",
       "      <td>Inclusion at Codeup During Pride Month (and Al...</td>\n",
       "      <td>https://codeup.com/codeup-news/inclusion-at-co...</td>\n",
       "      <td>\\n&lt;p&gt;Happy Pride Month! Pride Month is a dedic...</td>\n",
       "    </tr>\n",
       "    <tr>\n",
       "      <th>8</th>\n",
       "      <td>Why You Need the Best Coding Bootcamp Instructors</td>\n",
       "      <td>https://codeup.com/tips-for-prospective-studen...</td>\n",
       "      <td>\\n&lt;p&gt;One of the many reasons &lt;a href=\"https://...</td>\n",
       "    </tr>\n",
       "    <tr>\n",
       "      <th>9</th>\n",
       "      <td>Meet the new Codeup COO, Stephen Noteboom!</td>\n",
       "      <td>https://codeup.com/codeup-news/meet-the-new-co...</td>\n",
       "      <td>\\n&lt;p&gt;&lt;span style=\"font-weight: 400;\"&gt;&lt;strong&gt;A...</td>\n",
       "    </tr>\n",
       "    <tr>\n",
       "      <th>10</th>\n",
       "      <td>How I Went From Codeup to Business Owner</td>\n",
       "      <td>https://codeup.com/alumni-stories/how-i-went-f...</td>\n",
       "      <td>\\n&lt;p&gt;&lt;strong&gt;Out of college, I was a bit of a ...</td>\n",
       "    </tr>\n",
       "    <tr>\n",
       "      <th>11</th>\n",
       "      <td>Coding is for Women</td>\n",
       "      <td>https://codeup.com/tips-for-prospective-studen...</td>\n",
       "      <td>\\n&lt;p&gt;&lt;span style=\"font-weight: 400;\"&gt;In a worl...</td>\n",
       "    </tr>\n",
       "    <tr>\n",
       "      <th>12</th>\n",
       "      <td>Codeup Acquires Rackspace Cloud Academy!</td>\n",
       "      <td>https://codeup.com/codeup-news/codeup-acquires...</td>\n",
       "      <td>\\n&lt;p&gt;&lt;span style=\"font-weight: 400;\"&gt;We are th...</td>\n",
       "    </tr>\n",
       "    <tr>\n",
       "      <th>13</th>\n",
       "      <td>What are the Best Jobs in 2021?</td>\n",
       "      <td>https://codeup.com/tips-for-prospective-studen...</td>\n",
       "      <td>\\n&lt;p&gt;&lt;span style=\"font-weight: 400;\"&gt;Every yea...</td>\n",
       "    </tr>\n",
       "    <tr>\n",
       "      <th>14</th>\n",
       "      <td>Meet our new VP of Delivery, Marty Sixkiller!</td>\n",
       "      <td>https://codeup.com/codeup-news/meet-our-new-vp...</td>\n",
       "      <td>\\n&lt;p&gt;&lt;span style=\"font-weight: 400;\"&gt;&lt;a href=\"...</td>\n",
       "    </tr>\n",
       "    <tr>\n",
       "      <th>15</th>\n",
       "      <td>Start a New Career with VET TEC!</td>\n",
       "      <td>https://codeup.com/codeup-news/start-a-new-car...</td>\n",
       "      <td>\\n&lt;p&gt;&lt;span style=\"font-weight: 400;\"&gt;Are you a...</td>\n",
       "    </tr>\n",
       "    <tr>\n",
       "      <th>16</th>\n",
       "      <td>How to Hire for the Long Haul; We’ve Got Your ...</td>\n",
       "      <td>https://codeup.com/codeup-news/how-to-hire-for...</td>\n",
       "      <td>\\n&lt;p&gt;&lt;span style=\"font-weight: 400;\"&gt;We’re pre...</td>\n",
       "    </tr>\n",
       "    <tr>\n",
       "      <th>17</th>\n",
       "      <td>Do You Know Who You’re Hiring?</td>\n",
       "      <td>https://codeup.com/codeup-news/know-who-youre-...</td>\n",
       "      <td>\\n&lt;div class=\"et-l et-l--post\"&gt;\\n&lt;div class=\"e...</td>\n",
       "    </tr>\n",
       "  </tbody>\n",
       "</table>\n",
       "</div>"
      ],
      "text/plain": [
       "                                                title  \\\n",
       "0      From Speech Pathology to Business Intelligence   \n",
       "1                       Boris – Behind the Billboards   \n",
       "2   Is Codeup the Best Bootcamp in San Antonio…or ...   \n",
       "3            Codeup Launches First Podcast: Hire Tech   \n",
       "4         Why Should I Become a System Administrator?   \n",
       "5         Announcing our Candidacy for Accreditation!   \n",
       "6   Codeup Takes Over More of the Historic Vogue B...   \n",
       "7   Inclusion at Codeup During Pride Month (and Al...   \n",
       "8   Why You Need the Best Coding Bootcamp Instructors   \n",
       "9          Meet the new Codeup COO, Stephen Noteboom!   \n",
       "10           How I Went From Codeup to Business Owner   \n",
       "11                                Coding is for Women   \n",
       "12           Codeup Acquires Rackspace Cloud Academy!   \n",
       "13                    What are the Best Jobs in 2021?   \n",
       "14      Meet our new VP of Delivery, Marty Sixkiller!   \n",
       "15                   Start a New Career with VET TEC!   \n",
       "16  How to Hire for the Long Haul; We’ve Got Your ...   \n",
       "17                     Do You Know Who You’re Hiring?   \n",
       "\n",
       "                                                 link  \\\n",
       "0   https://codeup.com/alumni-stories/from-speech-...   \n",
       "1   https://codeup.com/behind-the-billboards/boris...   \n",
       "2   https://codeup.com/codeup-news/is-codeup-the-b...   \n",
       "3   https://codeup.com/codeup-news/codeup-launches...   \n",
       "4   https://codeup.com/tips-for-prospective-studen...   \n",
       "5   https://codeup.com/codeup-news/codeup-candidat...   \n",
       "6   https://codeup.com/codeup-news/codeup-takes-ov...   \n",
       "7   https://codeup.com/codeup-news/inclusion-at-co...   \n",
       "8   https://codeup.com/tips-for-prospective-studen...   \n",
       "9   https://codeup.com/codeup-news/meet-the-new-co...   \n",
       "10  https://codeup.com/alumni-stories/how-i-went-f...   \n",
       "11  https://codeup.com/tips-for-prospective-studen...   \n",
       "12  https://codeup.com/codeup-news/codeup-acquires...   \n",
       "13  https://codeup.com/tips-for-prospective-studen...   \n",
       "14  https://codeup.com/codeup-news/meet-our-new-vp...   \n",
       "15  https://codeup.com/codeup-news/start-a-new-car...   \n",
       "16  https://codeup.com/codeup-news/how-to-hire-for...   \n",
       "17  https://codeup.com/codeup-news/know-who-youre-...   \n",
       "\n",
       "                                              content  \n",
       "0   \\n<p>By: Alicia Gonzalez</p>\\n<p>Before Codeup...  \n",
       "1   \\n<p><iframe allow=\"accelerometer; autoplay; c...  \n",
       "2   \\n<p>Looking for the best data science bootcam...  \n",
       "3   \\n<p>Any podcast enthusiasts out there? We are...  \n",
       "4   \\n<p>With so many tech careers in demand, why ...  \n",
       "5   \\n<p>Did you know that even though we’re an in...  \n",
       "6   \\n<p>Codeup is moving into another floor of ou...  \n",
       "7   \\n<p>Happy Pride Month! Pride Month is a dedic...  \n",
       "8   \\n<p>One of the many reasons <a href=\"https://...  \n",
       "9   \\n<p><span style=\"font-weight: 400;\"><strong>A...  \n",
       "10  \\n<p><strong>Out of college, I was a bit of a ...  \n",
       "11  \\n<p><span style=\"font-weight: 400;\">In a worl...  \n",
       "12  \\n<p><span style=\"font-weight: 400;\">We are th...  \n",
       "13  \\n<p><span style=\"font-weight: 400;\">Every yea...  \n",
       "14  \\n<p><span style=\"font-weight: 400;\"><a href=\"...  \n",
       "15  \\n<p><span style=\"font-weight: 400;\">Are you a...  \n",
       "16  \\n<p><span style=\"font-weight: 400;\">We’re pre...  \n",
       "17  \\n<div class=\"et-l et-l--post\">\\n<div class=\"e...  "
      ]
     },
     "execution_count": 158,
     "metadata": {},
     "output_type": "execute_result"
    }
   ],
   "source": [
    "df"
   ]
  },
  {
   "cell_type": "markdown",
   "id": "1e0f8ce2",
   "metadata": {},
   "source": [
    "### News Articles.  We will now be scraping text data from inshorts, a website that provides a brief overview of many different topics.  Write a function that scrapes the news articles for the following topics: \n",
    "\n",
    "    Business\n",
    "    Sports\n",
    "    Technology\n",
    "    Entertainment\n",
    "    \n",
    "### The end product of this should be a function named get_news_articles that returns a list of dictionaries, where each dictionary has this shape:"
   ]
  },
  {
   "cell_type": "code",
   "execution_count": 164,
   "id": "77ca97af",
   "metadata": {},
   "outputs": [],
   "source": [
    "response = requests.get('https://blog.inshorts.com', headers={'user-agent': 'Codeup DS Germain'})\n",
    "html = response.text\n",
    "\n",
    "soup = BeautifulSoup(html)"
   ]
  },
  {
   "cell_type": "code",
   "execution_count": null,
   "id": "5aaac1da",
   "metadata": {},
   "outputs": [],
   "source": []
  },
  {
   "cell_type": "code",
   "execution_count": 222,
   "id": "3a8f8980",
   "metadata": {},
   "outputs": [
    {
     "data": {
      "text/plain": [
       "10"
      ]
     },
     "execution_count": 222,
     "metadata": {},
     "output_type": "execute_result"
    }
   ],
   "source": [
    "article = soup.select('article')\n",
    "len(article)"
   ]
  },
  {
   "cell_type": "code",
   "execution_count": 227,
   "id": "3a50f7c1",
   "metadata": {},
   "outputs": [],
   "source": [
    "title = article[0].h2.text"
   ]
  },
  {
   "cell_type": "code",
   "execution_count": 228,
   "id": "340bd45a",
   "metadata": {},
   "outputs": [],
   "source": [
    "link = article[0].h2.a['href']"
   ]
  },
  {
   "cell_type": "code",
   "execution_count": 229,
   "id": "6cfbf8e1",
   "metadata": {},
   "outputs": [],
   "source": [
    "response = requests.get(link, headers={'user-agent': 'Codeup DS Germain'})\n",
    "html = response.text\n",
    "soup2 = BeautifulSoup(html)"
   ]
  },
  {
   "cell_type": "code",
   "execution_count": 233,
   "id": "5c61cba5",
   "metadata": {},
   "outputs": [
    {
     "data": {
      "text/plain": [
       "46"
      ]
     },
     "execution_count": 233,
     "metadata": {},
     "output_type": "execute_result"
    }
   ],
   "source": [
    "len(soup2.select('.elementor')[0].select('p'))"
   ]
  },
  {
   "cell_type": "code",
   "execution_count": 230,
   "id": "4abb8bec",
   "metadata": {},
   "outputs": [],
   "source": [
    "content = ''\n",
    "for p in soup2.select('.elementor')[0].select('p'):\n",
    "    content += str(p)"
   ]
  },
  {
   "cell_type": "code",
   "execution_count": 231,
   "id": "02496d1b",
   "metadata": {},
   "outputs": [
    {
     "data": {
      "text/plain": [
       "'<p><!-- wp:paragraph --></p><p>The latest round of opinion polls conducted on location-based social network Public has revealed that at 64.6%, cricket fans strongly agree that mentor MS Dhoni will help improve India’s prospects at T20. The poll gauged opinions of Bharat users ahead of the ICC Men’s T20 World Cup 2021. This year, BCCI is the host of the tournament in the UAE. Cricket stadiums of Dubai, Abu Dhabi, and Sharjah will host the matches of the ICC event. Some matches of round 1 will take place in Oman.</p><p>\\xa0</p><p><!-- /wp:paragraph --></p><p><!-- wp:paragraph --></p><p><strong>Key Highlights</strong></p><p><!-- /wp:paragraph --></p><p><!-- wp:paragraph --></p><p>\\xa0</p><p><!-- /wp:paragraph --></p><p><!-- wp:paragraph --></p><p><strong>World Cup promises excitement</strong></p><p><!-- /wp:paragraph --></p><p><!-- wp:paragraph --></p><p>The majority of respondents have expressed their excitement about the mega event. About 53% of participants revealed their excitement for the World Cup that is being held just days after India’s own cricket festival, the IPL. While 67% believe that IPL as a precursor to the World Cup will be advantageous for the Indian team, a little over 18% have expressed otherwise.</p><p><!-- /wp:paragraph --></p><p><!-- wp:paragraph --></p><p>The upcoming World Cup not just gauged the country’s excitement level but the undying faith in Team India too. Almost 60% of the respondents believe India will definitely bring the trophy home. Nearly 25% said the winning chances are 80-90% while a minority of 10.5% believe the chances are below 50%.\\xa0</p><p>\\xa0</p><p><!-- /wp:paragraph --></p><p><!-- wp:paragraph --></p><p><strong>Under Dhoni’s Wing</strong></p><p><!-- /wp:paragraph --></p><p><!-- wp:paragraph --></p><p>Dhoni, who recently led his team Chennai Super Kings to victory at the IPL has joined Team India’s camp in the UAE. Captain Virat Kohli himself has extended his support to the former skipper who brought home the 2013 World Championship Trophy. “He has got massive experience. He is quite excited himself. He has always been a mentor for all of us. Younger guys who are playing their first major tournaments at early stages of career will benefit,” Kohli was quoted as saying by a news agency.</p><p><!-- /wp:paragraph --></p><p><!-- wp:paragraph --></p><p>When asked if Dhoni’s guidance will help, respondents look fairly optimistic. Almost 65% strongly believe Dhoni’s presence will improve the team’s performance, while further 19% also registered their agreement with the thought. About 16% of the respondents strongly/somewhat believe that Dhoni’s guidance won’t help.\\xa0</p><p>\\xa0</p><p><!-- /wp:paragraph --></p><p><!-- wp:paragraph --></p><p><strong>The World of Worthy Opponents\\xa0</strong></p><p><!-- /wp:paragraph --></p><p><!-- wp:paragraph --></p><p>When it comes to competition, the respondents registered an array of opinions. New Zealand topped the list of strongest contenders against India at the T20 World Cup with 36% votes followed by India’s arch-rival Pakistan at 20%. Interestingly, India marked its iconic win at the 2007 T20 WC when the men in blue defeated Pak by 5 runs in the final match. Other potential contenders as per the participants of the poll are<span style=\"background-color: var(--global--color-background);font-size: var(--global--font-size-base)\">\\xa0South Africa &amp; Bangladesh with 14% &amp; 4% votes respectively.\\xa0</span></p><p><span style=\"background-color: var(--global--color-background);font-size: var(--global--font-size-base)\">\\xa0</span></p><p><!-- /wp:paragraph --></p><p><!-- wp:paragraph --></p><p><strong>Upcoming Captain Preferences</strong></p><p><!-- /wp:paragraph --></p><p><!-- wp:paragraph --></p><p>This year marks Virat Kohli’s last stint with captaincy at the T20 World Cup. While it is for the BCCI and the Indian selectors to decide who will lead the team at the next World Cup, respondents have given their verdict through the poll. Rohit Sharma is the first choice of a majority of respondents (69%). The right-handed batsman has led Mumbai Indians to 5 IPL titles, most than any other team.</p><p><!-- /wp:paragraph --></p><p><!-- wp:paragraph --></p><p>Other players seen as prospective captains by the respondents are K.L Rahul (16.38%), Rishabh Pant (10.36%), followed by Jasprit Bumrah (3.82%).\\xa0</p><p><!-- /wp:paragraph --></p>'"
      ]
     },
     "execution_count": 231,
     "metadata": {},
     "output_type": "execute_result"
    }
   ],
   "source": [
    "content"
   ]
  },
  {
   "cell_type": "code",
   "execution_count": 212,
   "id": "df9c6cc3",
   "metadata": {},
   "outputs": [],
   "source": [
    "def process_news(article):\n",
    "\n",
    "    title = article.h2.text\n",
    "    link = article.h2.a['href']\n",
    "    \n",
    "    response = requests.get(link, headers={'user-agent': 'Codeup DS Germain'})\n",
    "    html = response.text\n",
    "    soup2 = BeautifulSoup(html)\n",
    "    \n",
    "    content = ''\n",
    "    for p in soup2.select('.elementor')[0].select('p'):\n",
    "        content += str(p)\n",
    "  \n",
    "    return {\n",
    "        'title': title,\n",
    "        'link': link,\n",
    "        'content': content\n",
    "    }"
   ]
  },
  {
   "cell_type": "code",
   "execution_count": 213,
   "id": "aace97a0",
   "metadata": {},
   "outputs": [
    {
     "name": "stdout",
     "output_type": "stream",
     "text": [
      "0\n"
     ]
    },
    {
     "ename": "IndexError",
     "evalue": "list index out of range",
     "output_type": "error",
     "traceback": [
      "\u001b[0;31m---------------------------------------------------------------------------\u001b[0m",
      "\u001b[0;31mIndexError\u001b[0m                                Traceback (most recent call last)",
      "\u001b[0;32m<ipython-input-213-a34a9f541671>\u001b[0m in \u001b[0;36m<module>\u001b[0;34m\u001b[0m\n\u001b[1;32m      1\u001b[0m \u001b[0marticles\u001b[0m \u001b[0;34m=\u001b[0m \u001b[0msoup\u001b[0m\u001b[0;34m.\u001b[0m\u001b[0mselect\u001b[0m\u001b[0;34m(\u001b[0m\u001b[0;34m'article'\u001b[0m\u001b[0;34m)\u001b[0m\u001b[0;34m\u001b[0m\u001b[0;34m\u001b[0m\u001b[0m\n\u001b[0;32m----> 2\u001b[0;31m \u001b[0mdf\u001b[0m \u001b[0;34m=\u001b[0m \u001b[0mpd\u001b[0m\u001b[0;34m.\u001b[0m\u001b[0mDataFrame\u001b[0m\u001b[0;34m(\u001b[0m\u001b[0;34m[\u001b[0m\u001b[0mprocess_news\u001b[0m\u001b[0;34m(\u001b[0m\u001b[0marticle\u001b[0m\u001b[0;34m)\u001b[0m \u001b[0;32mfor\u001b[0m \u001b[0marticle\u001b[0m \u001b[0;32min\u001b[0m \u001b[0marticles\u001b[0m\u001b[0;34m]\u001b[0m\u001b[0;34m)\u001b[0m\u001b[0;34m\u001b[0m\u001b[0;34m\u001b[0m\u001b[0m\n\u001b[0m",
      "\u001b[0;32m<ipython-input-213-a34a9f541671>\u001b[0m in \u001b[0;36m<listcomp>\u001b[0;34m(.0)\u001b[0m\n\u001b[1;32m      1\u001b[0m \u001b[0marticles\u001b[0m \u001b[0;34m=\u001b[0m \u001b[0msoup\u001b[0m\u001b[0;34m.\u001b[0m\u001b[0mselect\u001b[0m\u001b[0;34m(\u001b[0m\u001b[0;34m'article'\u001b[0m\u001b[0;34m)\u001b[0m\u001b[0;34m\u001b[0m\u001b[0;34m\u001b[0m\u001b[0m\n\u001b[0;32m----> 2\u001b[0;31m \u001b[0mdf\u001b[0m \u001b[0;34m=\u001b[0m \u001b[0mpd\u001b[0m\u001b[0;34m.\u001b[0m\u001b[0mDataFrame\u001b[0m\u001b[0;34m(\u001b[0m\u001b[0;34m[\u001b[0m\u001b[0mprocess_news\u001b[0m\u001b[0;34m(\u001b[0m\u001b[0marticle\u001b[0m\u001b[0;34m)\u001b[0m \u001b[0;32mfor\u001b[0m \u001b[0marticle\u001b[0m \u001b[0;32min\u001b[0m \u001b[0marticles\u001b[0m\u001b[0;34m]\u001b[0m\u001b[0;34m)\u001b[0m\u001b[0;34m\u001b[0m\u001b[0;34m\u001b[0m\u001b[0m\n\u001b[0m",
      "\u001b[0;32m<ipython-input-212-183c95be7641>\u001b[0m in \u001b[0;36mprocess_news\u001b[0;34m(article)\u001b[0m\n\u001b[1;32m      9\u001b[0m \u001b[0;34m\u001b[0m\u001b[0m\n\u001b[1;32m     10\u001b[0m     \u001b[0mcontent\u001b[0m \u001b[0;34m=\u001b[0m \u001b[0;34m''\u001b[0m\u001b[0;34m\u001b[0m\u001b[0;34m\u001b[0m\u001b[0m\n\u001b[0;32m---> 11\u001b[0;31m     \u001b[0;32mfor\u001b[0m \u001b[0mp\u001b[0m \u001b[0;32min\u001b[0m \u001b[0msoup2\u001b[0m\u001b[0;34m.\u001b[0m\u001b[0mselect\u001b[0m\u001b[0;34m(\u001b[0m\u001b[0;34m'.elementor'\u001b[0m\u001b[0;34m)\u001b[0m\u001b[0;34m[\u001b[0m\u001b[0;36m0\u001b[0m\u001b[0;34m]\u001b[0m\u001b[0;34m.\u001b[0m\u001b[0mselect\u001b[0m\u001b[0;34m(\u001b[0m\u001b[0;34m'p'\u001b[0m\u001b[0;34m)\u001b[0m\u001b[0;34m:\u001b[0m\u001b[0;34m\u001b[0m\u001b[0;34m\u001b[0m\u001b[0m\n\u001b[0m\u001b[1;32m     12\u001b[0m         \u001b[0mcontent\u001b[0m \u001b[0;34m+=\u001b[0m \u001b[0mstr\u001b[0m\u001b[0;34m(\u001b[0m\u001b[0mp\u001b[0m\u001b[0;34m)\u001b[0m\u001b[0;34m\u001b[0m\u001b[0;34m\u001b[0m\u001b[0m\n\u001b[1;32m     13\u001b[0m     \u001b[0mprint\u001b[0m\u001b[0;34m(\u001b[0m\u001b[0mcount\u001b[0m\u001b[0;34m)\u001b[0m\u001b[0;34m\u001b[0m\u001b[0;34m\u001b[0m\u001b[0m\n",
      "\u001b[0;31mIndexError\u001b[0m: list index out of range"
     ]
    }
   ],
   "source": [
    "articles = soup.select('article')\n",
    "df = pd.DataFrame([process_news(article) for article in articles])"
   ]
  },
  {
   "cell_type": "code",
   "execution_count": null,
   "id": "01ad873f",
   "metadata": {},
   "outputs": [],
   "source": []
  }
 ],
 "metadata": {
  "kernelspec": {
   "display_name": "Python 3",
   "language": "python",
   "name": "python3"
  },
  "language_info": {
   "codemirror_mode": {
    "name": "ipython",
    "version": 3
   },
   "file_extension": ".py",
   "mimetype": "text/x-python",
   "name": "python",
   "nbconvert_exporter": "python",
   "pygments_lexer": "ipython3",
   "version": "3.8.8"
  }
 },
 "nbformat": 4,
 "nbformat_minor": 5
}
