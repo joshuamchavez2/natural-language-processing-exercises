{
 "cells": [
  {
   "cell_type": "code",
   "execution_count": 260,
   "id": "292ba840",
   "metadata": {},
   "outputs": [],
   "source": [
    "import requests\n",
    "from bs4 import BeautifulSoup \n",
    "import pandas as pd\n",
    "from time import strftime"
   ]
  },
  {
   "cell_type": "markdown",
   "id": "3e635b8f",
   "metadata": {},
   "source": [
    "## Codeup Blog Articles Visit Codeup's Blog and record the urls for at least 5 distinct blog posts. For each post, you should scrape at least the post's title and content.  Encapsulate your work in a function named get_blog_articles that will return a list of dictionaries, with each dictionary representing one article. The shape of each dictionary should look like this:"
   ]
  },
  {
   "cell_type": "code",
   "execution_count": 162,
   "id": "71c94164",
   "metadata": {},
   "outputs": [],
   "source": [
    "response = requests.get('https://codeup.com/blog/', headers={'user-agent': 'Codeup DS Germain'})\n",
    "html = response.text\n",
    "\n",
    "soup = BeautifulSoup(html)"
   ]
  },
  {
   "cell_type": "code",
   "execution_count": 89,
   "id": "e8c25570",
   "metadata": {},
   "outputs": [],
   "source": [
    "blogs = soup.select('.et_pb_post.clearfix')"
   ]
  },
  {
   "cell_type": "code",
   "execution_count": 90,
   "id": "cd48e457",
   "metadata": {},
   "outputs": [
    {
     "data": {
      "text/plain": [
       "18"
      ]
     },
     "execution_count": 90,
     "metadata": {},
     "output_type": "execute_result"
    }
   ],
   "source": [
    "len(blogs)"
   ]
  },
  {
   "cell_type": "code",
   "execution_count": 106,
   "id": "3cc42bd5",
   "metadata": {},
   "outputs": [
    {
     "data": {
      "text/plain": [
       "<article class=\"et_pb_post clearfix et_pb_blog_item_0_0 post-16849 post type-post status-publish format-standard has-post-thumbnail hentry category-alumni-stories\" id=\"post-16849\">\n",
       "<a class=\"entry-featured-image-url\" href=\"https://codeup.com/alumni-stories/from-speech-pathology-to-business-intelligence/\"><img alt=\"From Speech Pathology to Business Intelligence\" class=\"\" height=\"675\" loading=\"lazy\" sizes=\"(min-width: 0px) and (max-width: 480px) 480px, (min-width: 481px) and (max-width: 980px) 980px, (min-width: 981px) 1080px, 100vw\" src=\"https://199lj33nqk3p88xz03dvn481-wpengine.netdna-ssl.com/wp-content/uploads/2021/10/1200x628_BlogPost-02-Alicia-Success-Story-1080x629.png\" srcset=\"https://199lj33nqk3p88xz03dvn481-wpengine.netdna-ssl.com/wp-content/uploads/2021/10/1200x628_BlogPost-02-Alicia-Success-Story-1080x629.png 1080w, https://199lj33nqk3p88xz03dvn481-wpengine.netdna-ssl.com/wp-content/uploads/2021/10/1200x628_BlogPost-02-Alicia-Success-Story-980x514.png 980w, https://199lj33nqk3p88xz03dvn481-wpengine.netdna-ssl.com/wp-content/uploads/2021/10/1200x628_BlogPost-02-Alicia-Success-Story-480x252.png 480w\" width=\"1080\"/></a>\n",
       "<h2 class=\"entry-title\"><a href=\"https://codeup.com/alumni-stories/from-speech-pathology-to-business-intelligence/\">From Speech Pathology to Business Intelligence</a></h2>\n",
       "<p class=\"post-meta\"><span class=\"published\">Oct 18, 2021</span> | <a href=\"https://codeup.com/category/alumni-stories/\" rel=\"tag\">Alumni Stories</a></p><div class=\"post-content\"><div class=\"post-content-inner\"><p>By: Alicia Gonzalez Before Codeup, I was a home health Speech-Language Pathologist Assistant. I would go from home to...</p>\n",
       "</div></div>\n",
       "</article>"
      ]
     },
     "execution_count": 106,
     "metadata": {},
     "output_type": "execute_result"
    }
   ],
   "source": [
    "blogs[0]"
   ]
  },
  {
   "cell_type": "code",
   "execution_count": 154,
   "id": "092b5d20",
   "metadata": {},
   "outputs": [],
   "source": [
    "def process_article(article):\n",
    "    title  = article.h2.text\n",
    "    link = article.h2.a['href']\n",
    "    \n",
    "    response = requests.get(link, headers={'user-agent': 'Codeup DS Germain'})\n",
    "    html = response.text\n",
    "    soup2 = BeautifulSoup(html)\n",
    "    body = soup2.select('.et_pb_module.et_pb_post_content.et_pb_post_content_0_tb_body')[0]\n",
    "    \n",
    "    content = ''\n",
    "    \n",
    "    for p in body:\n",
    "        content += str(p)\n",
    "    \n",
    "    return {\n",
    "        'title': title,\n",
    "        'link': link,\n",
    "        'content': content\n",
    "    }"
   ]
  },
  {
   "cell_type": "code",
   "execution_count": 155,
   "id": "4e3a461c",
   "metadata": {},
   "outputs": [],
   "source": [
    "blogs = soup.select('.et_pb_post.clearfix')\n",
    "df = pd.DataFrame([process_article(blog) for blog in blogs])"
   ]
  },
  {
   "cell_type": "code",
   "execution_count": 158,
   "id": "7585e968",
   "metadata": {},
   "outputs": [
    {
     "data": {
      "text/html": [
       "<div>\n",
       "<style scoped>\n",
       "    .dataframe tbody tr th:only-of-type {\n",
       "        vertical-align: middle;\n",
       "    }\n",
       "\n",
       "    .dataframe tbody tr th {\n",
       "        vertical-align: top;\n",
       "    }\n",
       "\n",
       "    .dataframe thead th {\n",
       "        text-align: right;\n",
       "    }\n",
       "</style>\n",
       "<table border=\"1\" class=\"dataframe\">\n",
       "  <thead>\n",
       "    <tr style=\"text-align: right;\">\n",
       "      <th></th>\n",
       "      <th>title</th>\n",
       "      <th>link</th>\n",
       "      <th>content</th>\n",
       "    </tr>\n",
       "  </thead>\n",
       "  <tbody>\n",
       "    <tr>\n",
       "      <th>0</th>\n",
       "      <td>From Speech Pathology to Business Intelligence</td>\n",
       "      <td>https://codeup.com/alumni-stories/from-speech-...</td>\n",
       "      <td>\\n&lt;p&gt;By: Alicia Gonzalez&lt;/p&gt;\\n&lt;p&gt;Before Codeup...</td>\n",
       "    </tr>\n",
       "    <tr>\n",
       "      <th>1</th>\n",
       "      <td>Boris – Behind the Billboards</td>\n",
       "      <td>https://codeup.com/behind-the-billboards/boris...</td>\n",
       "      <td>\\n&lt;p&gt;&lt;iframe allow=\"accelerometer; autoplay; c...</td>\n",
       "    </tr>\n",
       "    <tr>\n",
       "      <th>2</th>\n",
       "      <td>Is Codeup the Best Bootcamp in San Antonio…or ...</td>\n",
       "      <td>https://codeup.com/codeup-news/is-codeup-the-b...</td>\n",
       "      <td>\\n&lt;p&gt;Looking for the best data science bootcam...</td>\n",
       "    </tr>\n",
       "    <tr>\n",
       "      <th>3</th>\n",
       "      <td>Codeup Launches First Podcast: Hire Tech</td>\n",
       "      <td>https://codeup.com/codeup-news/codeup-launches...</td>\n",
       "      <td>\\n&lt;p&gt;Any podcast enthusiasts out there? We are...</td>\n",
       "    </tr>\n",
       "    <tr>\n",
       "      <th>4</th>\n",
       "      <td>Why Should I Become a System Administrator?</td>\n",
       "      <td>https://codeup.com/tips-for-prospective-studen...</td>\n",
       "      <td>\\n&lt;p&gt;With so many tech careers in demand, why ...</td>\n",
       "    </tr>\n",
       "    <tr>\n",
       "      <th>5</th>\n",
       "      <td>Announcing our Candidacy for Accreditation!</td>\n",
       "      <td>https://codeup.com/codeup-news/codeup-candidat...</td>\n",
       "      <td>\\n&lt;p&gt;Did you know that even though we’re an in...</td>\n",
       "    </tr>\n",
       "    <tr>\n",
       "      <th>6</th>\n",
       "      <td>Codeup Takes Over More of the Historic Vogue B...</td>\n",
       "      <td>https://codeup.com/codeup-news/codeup-takes-ov...</td>\n",
       "      <td>\\n&lt;p&gt;Codeup is moving into another floor of ou...</td>\n",
       "    </tr>\n",
       "    <tr>\n",
       "      <th>7</th>\n",
       "      <td>Inclusion at Codeup During Pride Month (and Al...</td>\n",
       "      <td>https://codeup.com/codeup-news/inclusion-at-co...</td>\n",
       "      <td>\\n&lt;p&gt;Happy Pride Month! Pride Month is a dedic...</td>\n",
       "    </tr>\n",
       "    <tr>\n",
       "      <th>8</th>\n",
       "      <td>Why You Need the Best Coding Bootcamp Instructors</td>\n",
       "      <td>https://codeup.com/tips-for-prospective-studen...</td>\n",
       "      <td>\\n&lt;p&gt;One of the many reasons &lt;a href=\"https://...</td>\n",
       "    </tr>\n",
       "    <tr>\n",
       "      <th>9</th>\n",
       "      <td>Meet the new Codeup COO, Stephen Noteboom!</td>\n",
       "      <td>https://codeup.com/codeup-news/meet-the-new-co...</td>\n",
       "      <td>\\n&lt;p&gt;&lt;span style=\"font-weight: 400;\"&gt;&lt;strong&gt;A...</td>\n",
       "    </tr>\n",
       "    <tr>\n",
       "      <th>10</th>\n",
       "      <td>How I Went From Codeup to Business Owner</td>\n",
       "      <td>https://codeup.com/alumni-stories/how-i-went-f...</td>\n",
       "      <td>\\n&lt;p&gt;&lt;strong&gt;Out of college, I was a bit of a ...</td>\n",
       "    </tr>\n",
       "    <tr>\n",
       "      <th>11</th>\n",
       "      <td>Coding is for Women</td>\n",
       "      <td>https://codeup.com/tips-for-prospective-studen...</td>\n",
       "      <td>\\n&lt;p&gt;&lt;span style=\"font-weight: 400;\"&gt;In a worl...</td>\n",
       "    </tr>\n",
       "    <tr>\n",
       "      <th>12</th>\n",
       "      <td>Codeup Acquires Rackspace Cloud Academy!</td>\n",
       "      <td>https://codeup.com/codeup-news/codeup-acquires...</td>\n",
       "      <td>\\n&lt;p&gt;&lt;span style=\"font-weight: 400;\"&gt;We are th...</td>\n",
       "    </tr>\n",
       "    <tr>\n",
       "      <th>13</th>\n",
       "      <td>What are the Best Jobs in 2021?</td>\n",
       "      <td>https://codeup.com/tips-for-prospective-studen...</td>\n",
       "      <td>\\n&lt;p&gt;&lt;span style=\"font-weight: 400;\"&gt;Every yea...</td>\n",
       "    </tr>\n",
       "    <tr>\n",
       "      <th>14</th>\n",
       "      <td>Meet our new VP of Delivery, Marty Sixkiller!</td>\n",
       "      <td>https://codeup.com/codeup-news/meet-our-new-vp...</td>\n",
       "      <td>\\n&lt;p&gt;&lt;span style=\"font-weight: 400;\"&gt;&lt;a href=\"...</td>\n",
       "    </tr>\n",
       "    <tr>\n",
       "      <th>15</th>\n",
       "      <td>Start a New Career with VET TEC!</td>\n",
       "      <td>https://codeup.com/codeup-news/start-a-new-car...</td>\n",
       "      <td>\\n&lt;p&gt;&lt;span style=\"font-weight: 400;\"&gt;Are you a...</td>\n",
       "    </tr>\n",
       "    <tr>\n",
       "      <th>16</th>\n",
       "      <td>How to Hire for the Long Haul; We’ve Got Your ...</td>\n",
       "      <td>https://codeup.com/codeup-news/how-to-hire-for...</td>\n",
       "      <td>\\n&lt;p&gt;&lt;span style=\"font-weight: 400;\"&gt;We’re pre...</td>\n",
       "    </tr>\n",
       "    <tr>\n",
       "      <th>17</th>\n",
       "      <td>Do You Know Who You’re Hiring?</td>\n",
       "      <td>https://codeup.com/codeup-news/know-who-youre-...</td>\n",
       "      <td>\\n&lt;div class=\"et-l et-l--post\"&gt;\\n&lt;div class=\"e...</td>\n",
       "    </tr>\n",
       "  </tbody>\n",
       "</table>\n",
       "</div>"
      ],
      "text/plain": [
       "                                                title  \\\n",
       "0      From Speech Pathology to Business Intelligence   \n",
       "1                       Boris – Behind the Billboards   \n",
       "2   Is Codeup the Best Bootcamp in San Antonio…or ...   \n",
       "3            Codeup Launches First Podcast: Hire Tech   \n",
       "4         Why Should I Become a System Administrator?   \n",
       "5         Announcing our Candidacy for Accreditation!   \n",
       "6   Codeup Takes Over More of the Historic Vogue B...   \n",
       "7   Inclusion at Codeup During Pride Month (and Al...   \n",
       "8   Why You Need the Best Coding Bootcamp Instructors   \n",
       "9          Meet the new Codeup COO, Stephen Noteboom!   \n",
       "10           How I Went From Codeup to Business Owner   \n",
       "11                                Coding is for Women   \n",
       "12           Codeup Acquires Rackspace Cloud Academy!   \n",
       "13                    What are the Best Jobs in 2021?   \n",
       "14      Meet our new VP of Delivery, Marty Sixkiller!   \n",
       "15                   Start a New Career with VET TEC!   \n",
       "16  How to Hire for the Long Haul; We’ve Got Your ...   \n",
       "17                     Do You Know Who You’re Hiring?   \n",
       "\n",
       "                                                 link  \\\n",
       "0   https://codeup.com/alumni-stories/from-speech-...   \n",
       "1   https://codeup.com/behind-the-billboards/boris...   \n",
       "2   https://codeup.com/codeup-news/is-codeup-the-b...   \n",
       "3   https://codeup.com/codeup-news/codeup-launches...   \n",
       "4   https://codeup.com/tips-for-prospective-studen...   \n",
       "5   https://codeup.com/codeup-news/codeup-candidat...   \n",
       "6   https://codeup.com/codeup-news/codeup-takes-ov...   \n",
       "7   https://codeup.com/codeup-news/inclusion-at-co...   \n",
       "8   https://codeup.com/tips-for-prospective-studen...   \n",
       "9   https://codeup.com/codeup-news/meet-the-new-co...   \n",
       "10  https://codeup.com/alumni-stories/how-i-went-f...   \n",
       "11  https://codeup.com/tips-for-prospective-studen...   \n",
       "12  https://codeup.com/codeup-news/codeup-acquires...   \n",
       "13  https://codeup.com/tips-for-prospective-studen...   \n",
       "14  https://codeup.com/codeup-news/meet-our-new-vp...   \n",
       "15  https://codeup.com/codeup-news/start-a-new-car...   \n",
       "16  https://codeup.com/codeup-news/how-to-hire-for...   \n",
       "17  https://codeup.com/codeup-news/know-who-youre-...   \n",
       "\n",
       "                                              content  \n",
       "0   \\n<p>By: Alicia Gonzalez</p>\\n<p>Before Codeup...  \n",
       "1   \\n<p><iframe allow=\"accelerometer; autoplay; c...  \n",
       "2   \\n<p>Looking for the best data science bootcam...  \n",
       "3   \\n<p>Any podcast enthusiasts out there? We are...  \n",
       "4   \\n<p>With so many tech careers in demand, why ...  \n",
       "5   \\n<p>Did you know that even though we’re an in...  \n",
       "6   \\n<p>Codeup is moving into another floor of ou...  \n",
       "7   \\n<p>Happy Pride Month! Pride Month is a dedic...  \n",
       "8   \\n<p>One of the many reasons <a href=\"https://...  \n",
       "9   \\n<p><span style=\"font-weight: 400;\"><strong>A...  \n",
       "10  \\n<p><strong>Out of college, I was a bit of a ...  \n",
       "11  \\n<p><span style=\"font-weight: 400;\">In a worl...  \n",
       "12  \\n<p><span style=\"font-weight: 400;\">We are th...  \n",
       "13  \\n<p><span style=\"font-weight: 400;\">Every yea...  \n",
       "14  \\n<p><span style=\"font-weight: 400;\"><a href=\"...  \n",
       "15  \\n<p><span style=\"font-weight: 400;\">Are you a...  \n",
       "16  \\n<p><span style=\"font-weight: 400;\">We’re pre...  \n",
       "17  \\n<div class=\"et-l et-l--post\">\\n<div class=\"e...  "
      ]
     },
     "execution_count": 158,
     "metadata": {},
     "output_type": "execute_result"
    }
   ],
   "source": [
    "df"
   ]
  },
  {
   "cell_type": "markdown",
   "id": "1e0f8ce2",
   "metadata": {},
   "source": [
    "### News Articles.  We will now be scraping text data from inshorts, a website that provides a brief overview of many different topics.  Write a function that scrapes the news articles for the following topics: \n",
    "\n",
    "    Business\n",
    "    Sports\n",
    "    Technology\n",
    "    Entertainment\n",
    "    \n",
    "### The end product of this should be a function named get_news_articles that returns a list of dictionaries, where each dictionary has this shape:"
   ]
  },
  {
   "cell_type": "code",
   "execution_count": 164,
   "id": "77ca97af",
   "metadata": {},
   "outputs": [],
   "source": [
    "response = requests.get('https://blog.inshorts.com', headers={'user-agent': 'Codeup DS Germain'})\n",
    "html = response.text\n",
    "\n",
    "soup = BeautifulSoup(html)"
   ]
  },
  {
   "cell_type": "code",
   "execution_count": null,
   "id": "5aaac1da",
   "metadata": {},
   "outputs": [],
   "source": []
  },
  {
   "cell_type": "code",
   "execution_count": 222,
   "id": "3a8f8980",
   "metadata": {},
   "outputs": [
    {
     "data": {
      "text/plain": [
       "10"
      ]
     },
     "execution_count": 222,
     "metadata": {},
     "output_type": "execute_result"
    }
   ],
   "source": [
    "article = soup.select('article')\n",
    "len(article)"
   ]
  },
  {
   "cell_type": "code",
   "execution_count": 227,
   "id": "3a50f7c1",
   "metadata": {},
   "outputs": [],
   "source": [
    "title = article[0].h2.text"
   ]
  },
  {
   "cell_type": "code",
   "execution_count": 228,
   "id": "340bd45a",
   "metadata": {},
   "outputs": [],
   "source": [
    "link = article[0].h2.a['href']"
   ]
  },
  {
   "cell_type": "code",
   "execution_count": 229,
   "id": "6cfbf8e1",
   "metadata": {},
   "outputs": [],
   "source": [
    "response = requests.get(link, headers={'user-agent': 'Codeup DS Germain'})\n",
    "html = response.text\n",
    "soup2 = BeautifulSoup(html)"
   ]
  },
  {
   "cell_type": "code",
   "execution_count": 233,
   "id": "5c61cba5",
   "metadata": {},
   "outputs": [
    {
     "data": {
      "text/plain": [
       "46"
      ]
     },
     "execution_count": 233,
     "metadata": {},
     "output_type": "execute_result"
    }
   ],
   "source": [
    "len(soup2.select('.elementor')[0].select('p'))"
   ]
  },
  {
   "cell_type": "code",
   "execution_count": 255,
   "id": "4abb8bec",
   "metadata": {},
   "outputs": [],
   "source": [
    "content = ''\n",
    "for p in soup2.select('.elementor')[0].select('p'):\n",
    "    content += str(p).strip()"
   ]
  },
  {
   "cell_type": "code",
   "execution_count": 256,
   "id": "02496d1b",
   "metadata": {},
   "outputs": [
    {
     "data": {
      "text/plain": [
       "'<p><!-- wp:paragraph --></p><p>The latest round of opinion polls conducted on location-based social network Public has revealed that at 64.6%, cricket fans strongly agree that mentor MS Dhoni will help improve India’s prospects at T20. The poll gauged opinions of Bharat users ahead of the ICC Men’s T20 World Cup 2021. This year, BCCI is the host of the tournament in the UAE. Cricket stadiums of Dubai, Abu Dhabi, and Sharjah will host the matches of the ICC event. Some matches of round 1 will take place in Oman.</p><p>\\xa0</p><p><!-- /wp:paragraph --></p><p><!-- wp:paragraph --></p><p><strong>Key Highlights</strong></p><p><!-- /wp:paragraph --></p><p><!-- wp:paragraph --></p><p>\\xa0</p><p><!-- /wp:paragraph --></p><p><!-- wp:paragraph --></p><p><strong>World Cup promises excitement</strong></p><p><!-- /wp:paragraph --></p><p><!-- wp:paragraph --></p><p>The majority of respondents have expressed their excitement about the mega event. About 53% of participants revealed their excitement for the World Cup that is being held just days after India’s own cricket festival, the IPL. While 67% believe that IPL as a precursor to the World Cup will be advantageous for the Indian team, a little over 18% have expressed otherwise.</p><p><!-- /wp:paragraph --></p><p><!-- wp:paragraph --></p><p>The upcoming World Cup not just gauged the country’s excitement level but the undying faith in Team India too. Almost 60% of the respondents believe India will definitely bring the trophy home. Nearly 25% said the winning chances are 80-90% while a minority of 10.5% believe the chances are below 50%.\\xa0</p><p>\\xa0</p><p><!-- /wp:paragraph --></p><p><!-- wp:paragraph --></p><p><strong>Under Dhoni’s Wing</strong></p><p><!-- /wp:paragraph --></p><p><!-- wp:paragraph --></p><p>Dhoni, who recently led his team Chennai Super Kings to victory at the IPL has joined Team India’s camp in the UAE. Captain Virat Kohli himself has extended his support to the former skipper who brought home the 2013 World Championship Trophy. “He has got massive experience. He is quite excited himself. He has always been a mentor for all of us. Younger guys who are playing their first major tournaments at early stages of career will benefit,” Kohli was quoted as saying by a news agency.</p><p><!-- /wp:paragraph --></p><p><!-- wp:paragraph --></p><p>When asked if Dhoni’s guidance will help, respondents look fairly optimistic. Almost 65% strongly believe Dhoni’s presence will improve the team’s performance, while further 19% also registered their agreement with the thought. About 16% of the respondents strongly/somewhat believe that Dhoni’s guidance won’t help.\\xa0</p><p>\\xa0</p><p><!-- /wp:paragraph --></p><p><!-- wp:paragraph --></p><p><strong>The World of Worthy Opponents\\xa0</strong></p><p><!-- /wp:paragraph --></p><p><!-- wp:paragraph --></p><p>When it comes to competition, the respondents registered an array of opinions. New Zealand topped the list of strongest contenders against India at the T20 World Cup with 36% votes followed by India’s arch-rival Pakistan at 20%. Interestingly, India marked its iconic win at the 2007 T20 WC when the men in blue defeated Pak by 5 runs in the final match. Other potential contenders as per the participants of the poll are<span style=\"background-color: var(--global--color-background);font-size: var(--global--font-size-base)\">\\xa0South Africa &amp; Bangladesh with 14% &amp; 4% votes respectively.\\xa0</span></p><p><span style=\"background-color: var(--global--color-background);font-size: var(--global--font-size-base)\">\\xa0</span></p><p><!-- /wp:paragraph --></p><p><!-- wp:paragraph --></p><p><strong>Upcoming Captain Preferences</strong></p><p><!-- /wp:paragraph --></p><p><!-- wp:paragraph --></p><p>This year marks Virat Kohli’s last stint with captaincy at the T20 World Cup. While it is for the BCCI and the Indian selectors to decide who will lead the team at the next World Cup, respondents have given their verdict through the poll. Rohit Sharma is the first choice of a majority of respondents (69%). The right-handed batsman has led Mumbai Indians to 5 IPL titles, most than any other team.</p><p><!-- /wp:paragraph --></p><p><!-- wp:paragraph --></p><p>Other players seen as prospective captains by the respondents are K.L Rahul (16.38%), Rishabh Pant (10.36%), followed by Jasprit Bumrah (3.82%).\\xa0</p><p><!-- /wp:paragraph --></p>'"
      ]
     },
     "execution_count": 256,
     "metadata": {},
     "output_type": "execute_result"
    }
   ],
   "source": [
    "content"
   ]
  },
  {
   "cell_type": "code",
   "execution_count": 249,
   "id": "df9c6cc3",
   "metadata": {},
   "outputs": [],
   "source": [
    "def process_news(article):\n",
    "\n",
    "    title = article.h2.text\n",
    "    link = article.h2.a['href']\n",
    "    \n",
    "    response = requests.get(link, headers={'user-agent': 'Codeup DS Germain'})\n",
    "    html = response.text\n",
    "    soup2 = BeautifulSoup(html)\n",
    "    \n",
    "    content = ''\n",
    "    for p in soup2.select('.elementor')[0].select('p'):\n",
    "        content += str(p)\n",
    "    print('done with 0')\n",
    "    return {\n",
    "        'title': title,\n",
    "        'link': link,\n",
    "        'content': content.strip()\n",
    "    }"
   ]
  },
  {
   "cell_type": "code",
   "execution_count": 246,
   "id": "826a3cc2",
   "metadata": {},
   "outputs": [],
   "source": [
    "articles = soup.select('article')"
   ]
  },
  {
   "cell_type": "code",
   "execution_count": 247,
   "id": "52e08709",
   "metadata": {},
   "outputs": [
    {
     "data": {
      "text/plain": [
       "10"
      ]
     },
     "execution_count": 247,
     "metadata": {},
     "output_type": "execute_result"
    }
   ],
   "source": [
    "len(articles)"
   ]
  },
  {
   "cell_type": "code",
   "execution_count": 257,
   "id": "aace97a0",
   "metadata": {},
   "outputs": [],
   "source": [
    "# df = pd.DataFrame([process_news(article) for article in articles])"
   ]
  },
  {
   "cell_type": "markdown",
   "id": "b8cd604b",
   "metadata": {},
   "source": [
    "### Couldn't get my function to work, ran out of time, moving on to project, zachs functions were a lot nicer too."
   ]
  },
  {
   "cell_type": "code",
   "execution_count": 267,
   "id": "01ad873f",
   "metadata": {},
   "outputs": [],
   "source": [
    "def parse_news_card(card):\n",
    "    'Given a news card object, returns a dictionary of the relevant information.'\n",
    "    card_title = card.select_one('.news-card-title')\n",
    "    output = {}\n",
    "    output['title'] = card_title.find('a').text.strip()\n",
    "    output['published'] = card_title.select_one('.time').attrs['content']\n",
    "    output['author'] = card_title.select_one('.author').text\n",
    "    output['content'] = card.select_one('.news-card-content').div.text.strip()\n",
    "    return output\n",
    "\n",
    "\n",
    "def parse_inshorts_page(url):\n",
    "    '''Given a url, returns a dataframe where each row is a news article from the url.\n",
    "    Infers the category from the last section of the url.'''\n",
    "    category = url.split('/')[-1]\n",
    "    response = requests.get(url, headers={'user-agent': 'Codeup DS'})\n",
    "    soup = BeautifulSoup(response.text)\n",
    "    cards = soup.select('.news-card')\n",
    "    df = pd.DataFrame([parse_news_card(card) for card in cards])\n",
    "    df['category'] = category\n",
    "    return df\n",
    "\n",
    "def get_inshorts_articles():\n",
    "    '''\n",
    "    Returns a dataframe of news articles from the business, sports, technology, and entertainment sections of\n",
    "    inshorts.\n",
    "    '''\n",
    "    url = 'https://inshorts.com/en/read/{}'\n",
    "    categories = ['business', 'sports', 'technology', 'entertainment']\n",
    "    df = pd.concat([parse_inshorts_page(url.format(cat)) for cat in categories])\n",
    "    df = df.reset_index(drop=True)\n",
    "    return df"
   ]
  },
  {
   "cell_type": "code",
   "execution_count": 264,
   "id": "5e06b6cb",
   "metadata": {},
   "outputs": [],
   "source": [
    "today = strftime('%Y-%m-%d')\n",
    "get_inshorts_articles().to_json(f'inshorts-{today}.json')"
   ]
  },
  {
   "cell_type": "code",
   "execution_count": 269,
   "id": "f17e6ba2",
   "metadata": {},
   "outputs": [],
   "source": [
    "df = get_inshorts_articles()"
   ]
  },
  {
   "cell_type": "code",
   "execution_count": 270,
   "id": "4efcede7",
   "metadata": {},
   "outputs": [
    {
     "data": {
      "text/html": [
       "<div>\n",
       "<style scoped>\n",
       "    .dataframe tbody tr th:only-of-type {\n",
       "        vertical-align: middle;\n",
       "    }\n",
       "\n",
       "    .dataframe tbody tr th {\n",
       "        vertical-align: top;\n",
       "    }\n",
       "\n",
       "    .dataframe thead th {\n",
       "        text-align: right;\n",
       "    }\n",
       "</style>\n",
       "<table border=\"1\" class=\"dataframe\">\n",
       "  <thead>\n",
       "    <tr style=\"text-align: right;\">\n",
       "      <th></th>\n",
       "      <th>title</th>\n",
       "      <th>published</th>\n",
       "      <th>author</th>\n",
       "      <th>content</th>\n",
       "      <th>category</th>\n",
       "    </tr>\n",
       "  </thead>\n",
       "  <tbody>\n",
       "    <tr>\n",
       "      <th>0</th>\n",
       "      <td>Facebook changes its company name to 'Meta'</td>\n",
       "      <td>2021-10-28T18:50:37.000Z</td>\n",
       "      <td>Pragya Swastik</td>\n",
       "      <td>Facebook on Thursday announced it's changing t...</td>\n",
       "      <td>business</td>\n",
       "    </tr>\n",
       "    <tr>\n",
       "      <th>1</th>\n",
       "      <td>'Man who takes 6 months parental leave is a lo...</td>\n",
       "      <td>2021-10-28T11:23:39.000Z</td>\n",
       "      <td>Kiran Khatri</td>\n",
       "      <td>Several Twitter users criticised US-based Pala...</td>\n",
       "      <td>business</td>\n",
       "    </tr>\n",
       "    <tr>\n",
       "      <th>2</th>\n",
       "      <td>Delhi HC notice to RBI, SBI over banning UPI p...</td>\n",
       "      <td>2021-10-28T12:54:02.000Z</td>\n",
       "      <td>Pragya Swastik</td>\n",
       "      <td>The Delhi High Court on Thursday issued notice...</td>\n",
       "      <td>business</td>\n",
       "    </tr>\n",
       "    <tr>\n",
       "      <th>3</th>\n",
       "      <td>Legacy companies eat Ola, Ather, Tork &amp; SmartE...</td>\n",
       "      <td>2021-10-28T13:20:23.000Z</td>\n",
       "      <td>Pragya Swastik</td>\n",
       "      <td>Bajaj Auto's MD Rajiv Bajaj on Thursday took a...</td>\n",
       "      <td>business</td>\n",
       "    </tr>\n",
       "    <tr>\n",
       "      <th>4</th>\n",
       "      <td>Indian market has 3 key beauties: Paytm CEO ah...</td>\n",
       "      <td>2021-10-28T12:19:23.000Z</td>\n",
       "      <td>Pragya Swastik</td>\n",
       "      <td>Vijay Shekhar Sharma, the CEO of Paytm that pl...</td>\n",
       "      <td>business</td>\n",
       "    </tr>\n",
       "    <tr>\n",
       "      <th>...</th>\n",
       "      <td>...</td>\n",
       "      <td>...</td>\n",
       "      <td>...</td>\n",
       "      <td>...</td>\n",
       "      <td>...</td>\n",
       "    </tr>\n",
       "    <tr>\n",
       "      <th>95</th>\n",
       "      <td>Suriya announces his next with Bala, says 'He ...</td>\n",
       "      <td>2021-10-28T16:14:18.000Z</td>\n",
       "      <td>Udit Gupta</td>\n",
       "      <td>Suriya and director Bala are teaming up for a ...</td>\n",
       "      <td>entertainment</td>\n",
       "    </tr>\n",
       "    <tr>\n",
       "      <th>96</th>\n",
       "      <td>Somewhere in my mind I knew I'll survive: Mahe...</td>\n",
       "      <td>2021-10-28T14:39:01.000Z</td>\n",
       "      <td>Udit Gupta</td>\n",
       "      <td>Mahesh Manjrekar, who was diagnosed with urina...</td>\n",
       "      <td>entertainment</td>\n",
       "    </tr>\n",
       "    <tr>\n",
       "      <th>97</th>\n",
       "      <td>'83' is Kabir Khan's labour of love for Indian...</td>\n",
       "      <td>2021-10-28T12:53:19.000Z</td>\n",
       "      <td>Udit Gupta</td>\n",
       "      <td>Actor Tahir Raj Bhasin has said his upcoming f...</td>\n",
       "      <td>entertainment</td>\n",
       "    </tr>\n",
       "    <tr>\n",
       "      <th>98</th>\n",
       "      <td>Glad that Aryan got bail, legal powers shouldn...</td>\n",
       "      <td>2021-10-28T17:04:25.000Z</td>\n",
       "      <td>Udit Gupta</td>\n",
       "      <td>After the Bombay High Court granted bail to Sh...</td>\n",
       "      <td>entertainment</td>\n",
       "    </tr>\n",
       "    <tr>\n",
       "      <th>99</th>\n",
       "      <td>Witnessed exorcism as child, most frightening ...</td>\n",
       "      <td>2021-10-28T14:34:39.000Z</td>\n",
       "      <td>Kriti Kambiri</td>\n",
       "      <td>Actor Emraan Hashmi has said that he witnessed...</td>\n",
       "      <td>entertainment</td>\n",
       "    </tr>\n",
       "  </tbody>\n",
       "</table>\n",
       "<p>100 rows × 5 columns</p>\n",
       "</div>"
      ],
      "text/plain": [
       "                                                title  \\\n",
       "0         Facebook changes its company name to 'Meta'   \n",
       "1   'Man who takes 6 months parental leave is a lo...   \n",
       "2   Delhi HC notice to RBI, SBI over banning UPI p...   \n",
       "3   Legacy companies eat Ola, Ather, Tork & SmartE...   \n",
       "4   Indian market has 3 key beauties: Paytm CEO ah...   \n",
       "..                                                ...   \n",
       "95  Suriya announces his next with Bala, says 'He ...   \n",
       "96  Somewhere in my mind I knew I'll survive: Mahe...   \n",
       "97  '83' is Kabir Khan's labour of love for Indian...   \n",
       "98  Glad that Aryan got bail, legal powers shouldn...   \n",
       "99  Witnessed exorcism as child, most frightening ...   \n",
       "\n",
       "                   published          author  \\\n",
       "0   2021-10-28T18:50:37.000Z  Pragya Swastik   \n",
       "1   2021-10-28T11:23:39.000Z    Kiran Khatri   \n",
       "2   2021-10-28T12:54:02.000Z  Pragya Swastik   \n",
       "3   2021-10-28T13:20:23.000Z  Pragya Swastik   \n",
       "4   2021-10-28T12:19:23.000Z  Pragya Swastik   \n",
       "..                       ...             ...   \n",
       "95  2021-10-28T16:14:18.000Z      Udit Gupta   \n",
       "96  2021-10-28T14:39:01.000Z      Udit Gupta   \n",
       "97  2021-10-28T12:53:19.000Z      Udit Gupta   \n",
       "98  2021-10-28T17:04:25.000Z      Udit Gupta   \n",
       "99  2021-10-28T14:34:39.000Z   Kriti Kambiri   \n",
       "\n",
       "                                              content       category  \n",
       "0   Facebook on Thursday announced it's changing t...       business  \n",
       "1   Several Twitter users criticised US-based Pala...       business  \n",
       "2   The Delhi High Court on Thursday issued notice...       business  \n",
       "3   Bajaj Auto's MD Rajiv Bajaj on Thursday took a...       business  \n",
       "4   Vijay Shekhar Sharma, the CEO of Paytm that pl...       business  \n",
       "..                                                ...            ...  \n",
       "95  Suriya and director Bala are teaming up for a ...  entertainment  \n",
       "96  Mahesh Manjrekar, who was diagnosed with urina...  entertainment  \n",
       "97  Actor Tahir Raj Bhasin has said his upcoming f...  entertainment  \n",
       "98  After the Bombay High Court granted bail to Sh...  entertainment  \n",
       "99  Actor Emraan Hashmi has said that he witnessed...  entertainment  \n",
       "\n",
       "[100 rows x 5 columns]"
      ]
     },
     "execution_count": 270,
     "metadata": {},
     "output_type": "execute_result"
    }
   ],
   "source": [
    "df"
   ]
  },
  {
   "cell_type": "code",
   "execution_count": null,
   "id": "367c20c9",
   "metadata": {},
   "outputs": [],
   "source": []
  }
 ],
 "metadata": {
  "kernelspec": {
   "display_name": "Python 3",
   "language": "python",
   "name": "python3"
  },
  "language_info": {
   "codemirror_mode": {
    "name": "ipython",
    "version": 3
   },
   "file_extension": ".py",
   "mimetype": "text/x-python",
   "name": "python",
   "nbconvert_exporter": "python",
   "pygments_lexer": "ipython3",
   "version": "3.8.8"
  }
 },
 "nbformat": 4,
 "nbformat_minor": 5
}
