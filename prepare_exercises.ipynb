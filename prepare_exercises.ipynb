{
 "cells": [
  {
   "cell_type": "code",
   "execution_count": 74,
   "id": "5c1f1331",
   "metadata": {},
   "outputs": [],
   "source": [
    "import unicodedata\n",
    "import re\n",
    "import json\n",
    "\n",
    "import pandas as pd\n",
    "\n",
    "import nltk\n",
    "from nltk.tokenize.toktok import ToktokTokenizer\n",
    "from nltk.corpus import stopwords\n",
    "from nltk import sent_tokenize\n"
   ]
  },
  {
   "cell_type": "markdown",
   "id": "f7661cd0",
   "metadata": {},
   "source": [
    "### Define a function named basic_clean. It should take in a string and apply some basic text cleaning to it:\n",
    "\n",
    "    Lowercase everything\n",
    "    Normalize unicode characters\n",
    "    Replace anything that is not a letter, number, whitespace or a single quote."
   ]
  },
  {
   "cell_type": "code",
   "execution_count": 42,
   "id": "489953c5",
   "metadata": {},
   "outputs": [],
   "source": [
    "original = \"Paul Erdős and George Pólya were influential Hungarian mathematicians who contributed \\\n",
    "a lot to the field. Erdős's name contains the Hungarian letter 'ő' ('o' with double acute accent), \\\n",
    "but is often incorrectly written as Erdos or Erdös either by mistake or out of typographical necessity\""
   ]
  },
  {
   "cell_type": "code",
   "execution_count": 43,
   "id": "d3d68599",
   "metadata": {},
   "outputs": [],
   "source": [
    "def basic_clean(string):\n",
    "    string = string.lower()\n",
    "    string = unicodedata.normalize('NFKD', string).encode('ascii', 'ignore').decode('utf-8')\n",
    "    string = re.sub(r\"[^a-z0-9'\\s]\", '', string)\n",
    "    return string"
   ]
  },
  {
   "cell_type": "code",
   "execution_count": 45,
   "id": "8738113e",
   "metadata": {},
   "outputs": [
    {
     "data": {
      "text/plain": [
       "\"paul erdos and george polya were influential hungarian mathematicians who contributed a lot to the field erdos's name contains the hungarian letter 'o' 'o' with double acute accent but is often incorrectly written as erdos or erdos either by mistake or out of typographical necessity\""
      ]
     },
     "execution_count": 45,
     "metadata": {},
     "output_type": "execute_result"
    }
   ],
   "source": [
    "original = basic_clean(original)\n",
    "original"
   ]
  },
  {
   "cell_type": "markdown",
   "id": "98c3276c",
   "metadata": {},
   "source": [
    "### Define a function named tokenize. It should take in a string and tokenize all the words in the string."
   ]
  },
  {
   "cell_type": "code",
   "execution_count": 39,
   "id": "488e6341",
   "metadata": {},
   "outputs": [],
   "source": [
    "def tokenize(string):\n",
    "    tokenizer = nltk.tokenize.ToktokTokenizer()\n",
    "    string = tokenizer.tokenize(string, return_str = True)\n",
    "    return string"
   ]
  },
  {
   "cell_type": "code",
   "execution_count": 47,
   "id": "0c886420",
   "metadata": {},
   "outputs": [
    {
     "data": {
      "text/plain": [
       "\"paul erdos and george polya were influential hungarian mathematicians who contributed a lot to the field erdos ' s name contains the hungarian letter ' o ' ' o ' with double acute accent but is often incorrectly written as erdos or erdos either by mistake or out of typographical necessity\""
      ]
     },
     "execution_count": 47,
     "metadata": {},
     "output_type": "execute_result"
    }
   ],
   "source": [
    "original = tokenize(original)\n",
    "original"
   ]
  },
  {
   "cell_type": "markdown",
   "id": "73565d91",
   "metadata": {},
   "source": [
    "### Define a function named stem. It should accept some text and return the text after applying stemming to all the words."
   ]
  },
  {
   "cell_type": "code",
   "execution_count": 40,
   "id": "e08ee7da",
   "metadata": {},
   "outputs": [],
   "source": [
    "def stem(string):\n",
    "\n",
    "    # Create porter stemmer.\n",
    "    ps = nltk.porter.PorterStemmer()\n",
    "    \n",
    "    stems = [ps.stem(word) for word in string.split()]\n",
    "    \n",
    "    article_stemmed = ' '.join(stems)\n",
    "    \n",
    "    return article_stemmed"
   ]
  },
  {
   "cell_type": "code",
   "execution_count": 49,
   "id": "0163bcb0",
   "metadata": {},
   "outputs": [
    {
     "data": {
      "text/plain": [
       "\"paul erdo and georg polya were influenti hungarian mathematician who contribut a lot to the field erdo ' s name contain the hungarian letter ' o ' ' o ' with doubl acut accent but is often incorrectli written as erdo or erdo either by mistak or out of typograph necess\""
      ]
     },
     "execution_count": 49,
     "metadata": {},
     "output_type": "execute_result"
    }
   ],
   "source": [
    "original = stem(original)\n",
    "original"
   ]
  },
  {
   "cell_type": "markdown",
   "id": "02254b16",
   "metadata": {},
   "source": [
    "### Define a function named lemmatize. It should accept some text and return the text after applying lemmatization to each word."
   ]
  },
  {
   "cell_type": "code",
   "execution_count": 56,
   "id": "7f5e4b16",
   "metadata": {},
   "outputs": [
    {
     "name": "stderr",
     "output_type": "stream",
     "text": [
      "[nltk_data] Downloading package wordnet to\n",
      "[nltk_data]     /Users/dulcechavez/nltk_data...\n",
      "[nltk_data]   Package wordnet is already up-to-date!\n"
     ]
    },
    {
     "data": {
      "text/plain": [
       "True"
      ]
     },
     "execution_count": 56,
     "metadata": {},
     "output_type": "execute_result"
    }
   ],
   "source": [
    "nltk.download('wordnet')"
   ]
  },
  {
   "cell_type": "code",
   "execution_count": 57,
   "id": "1032abbf",
   "metadata": {},
   "outputs": [],
   "source": [
    "def lemmatize(string):\n",
    "    \n",
    "    wnl = nltk.stem.WordNetLemmatizer()\n",
    "    lemmas = [wnl.lemmatize(word) for word in string.split()]\n",
    "    \n",
    "    article_lemmatized = ' '.join(lemmas)\n",
    "    return article_lemmatized"
   ]
  },
  {
   "cell_type": "code",
   "execution_count": 58,
   "id": "6eeb0015",
   "metadata": {},
   "outputs": [
    {
     "data": {
      "text/plain": [
       "\"paul erdo and georg polya were influenti hungarian mathematician who contribut a lot to the field erdo ' s name contain the hungarian letter ' o ' ' o ' with doubl acut accent but is often incorrectli written a erdo or erdo either by mistak or out of typograph necess\""
      ]
     },
     "execution_count": 58,
     "metadata": {},
     "output_type": "execute_result"
    }
   ],
   "source": [
    "original = lemmatize(original)\n",
    "original"
   ]
  },
  {
   "cell_type": "markdown",
   "id": "bc76b0b7",
   "metadata": {},
   "source": [
    "### Define a function named remove_stopwords. It should accept some text and return the text after removing all the stopwords.\n",
    "    This function should define two optional parameters, extra_words and exclude_words. These parameters should define any additional stop words to include, and any words that we don't want to remove."
   ]
  },
  {
   "cell_type": "code",
   "execution_count": 72,
   "id": "6e1e494a",
   "metadata": {},
   "outputs": [
    {
     "name": "stderr",
     "output_type": "stream",
     "text": [
      "[nltk_data] Downloading package stopwords to\n",
      "[nltk_data]     /Users/dulcechavez/nltk_data...\n",
      "[nltk_data]   Package stopwords is already up-to-date!\n"
     ]
    },
    {
     "data": {
      "text/plain": [
       "True"
      ]
     },
     "execution_count": 72,
     "metadata": {},
     "output_type": "execute_result"
    }
   ],
   "source": [
    "nltk.download('stopwords')"
   ]
  },
  {
   "cell_type": "code",
   "execution_count": 68,
   "id": "f762b896",
   "metadata": {},
   "outputs": [],
   "source": [
    "stopword_list = stopwords.words('english')"
   ]
  },
  {
   "cell_type": "code",
   "execution_count": 69,
   "id": "773f6932",
   "metadata": {},
   "outputs": [],
   "source": [
    "def remove_stopwords(string):\n",
    "    \n",
    "    stopword_list = stopwords.words('english')\n",
    "    words = string.split()\n",
    "    filtered_words = [word for word in words if word not in stopword_list]\n",
    "    article_without_stopwords = ' '.join(filtered_words)\n",
    "    \n",
    "    return article_without_stopwords"
   ]
  },
  {
   "cell_type": "code",
   "execution_count": 70,
   "id": "1ef5e70d",
   "metadata": {},
   "outputs": [
    {
     "data": {
      "text/plain": [
       "\"paul erdo georg polya influenti hungarian mathematician contribut lot field erdo ' name contain hungarian letter ' ' ' ' doubl acut accent often incorrectli written erdo erdo either mistak typograph necess\""
      ]
     },
     "execution_count": 70,
     "metadata": {},
     "output_type": "execute_result"
    }
   ],
   "source": [
    "original = remove_stopwords(original)\n",
    "original"
   ]
  },
  {
   "cell_type": "markdown",
   "id": "82c0851a",
   "metadata": {},
   "source": [
    "### Use your data from the acquire to produce a dataframe of the news articles. Name the dataframe news_df."
   ]
  },
  {
   "cell_type": "code",
   "execution_count": 76,
   "id": "a4386d20",
   "metadata": {},
   "outputs": [],
   "source": [
    "import json\n",
    "\n",
    "with open('inshorts-2021-10-28.json') as json_file:\n",
    "    data = json.load(json_file)"
   ]
  },
  {
   "cell_type": "code",
   "execution_count": 77,
   "id": "6623692a",
   "metadata": {},
   "outputs": [
    {
     "data": {
      "text/plain": [
       "{'title': {'0': \"Facebook changes its company name to 'Meta'\",\n",
       "  '1': \"'Man who takes 6 months parental leave is a loser,' says Palantir Co-founder\",\n",
       "  '2': 'Delhi HC notice to RBI, SBI over banning UPI payments in crypto exchanges',\n",
       "  '3': 'Indian market has 3 key beauties: Paytm CEO ahead of ₹18,300-crore IPO',\n",
       "  '4': 'Paytm will not force employees to come to office: CEO',\n",
       "  '5': \"Who are the top 10 new entrants on Hurun India's philanthropy list?\",\n",
       "  '6': 'Legacy companies eat Ola, Ather, Tork & SmartE (OATS) for breakfast: Rajiv Bajaj',\n",
       "  '7': 'Shaktikanta Das reappointed as RBI Governor for three years',\n",
       "  '8': 'Govt asks IRCTC to share 50% of service charge from e-ticketing',\n",
       "  '9': 'Investors lose ₹4.82 lakh crore in a day as Sensex sees the worst fall in 6 months',\n",
       "  '10': 'Sensex crashes 1,159 points to end below 60,000 in worst fall in 6 months',\n",
       "  '11': 'Aditya Ghosh pens note to father upon completing Management Program from Harvard',\n",
       "  '12': \"Who are India's top philanthropists according to Hurun's latest list?\",\n",
       "  '13': \"Taxing billionaires won't ease US national debt: World's richest person Elon Musk\",\n",
       "  '14': 'Have made $6 bn from Tesla from $380-mn investment: US billionaire',\n",
       "  '15': 'Nykaa IPO subscribed 1.55 times on Day-1',\n",
       "  '16': 'Bombay HC quashes cheating proceedings against Amazon India head',\n",
       "  '17': 'Centre releases ₹44,000 cr to states, UTs as GST compensation shortfall',\n",
       "  '18': \"Looks like we're finally emerging out of COVID-19 crisis: IndiGo CEO\",\n",
       "  '19': \"India's gold demand rises 47% to 139 tonnes in September quarter: WGC\",\n",
       "  '20': 'RBI should let rupee gain to contain imported inflation: SBI Research',\n",
       "  '21': 'Adani Ports shares tank 7% after Q2 profit falls 30% to ₹968.3 cr',\n",
       "  '22': \"India's crude oil imports rise 16% in September, hit 5-month high\",\n",
       "  '23': \"SC allows Centre's appeal against giving Airtel ₹923 cr as GST refund\",\n",
       "  '24': 'Morgan Stanley downgrades Indian equities due to expensive valuations',\n",
       "  '25': 'I will put my name in the IPL mega auction: David Warner',\n",
       "  '26': \"It is not Diwali that'll come annually: Aakash on ICC playing Associate teams in WCs\",\n",
       "  '27': 'Warner tries to remove Coca-Cola bottles at press conference like Ronaldo, video viral',\n",
       "  '28': 'Does this illiterate journalist open her mouth to just s**t: Harbhajan on Pak reporter',\n",
       "  '29': 'Who are the five oldest players featuring in T20 World Cup 2021?',\n",
       "  '30': \"Why can't we just say 'Well done Pak' & leave it at that: Gambhir on Shami getting abused\",\n",
       "  '31': 'Quinton De Kock breaks silence after refusing to take a knee in T20 World Cup 2021',\n",
       "  '32': 'Namibia beat Scotland in T20\\xa0WC 2021 as Ruben takes 3 wickets in 1st over of match',\n",
       "  '33': \"Ronaldo announces he's expecting twins with his girlfriend; shares pic\",\n",
       "  '34': 'David Warner smashes 65 as Australia defeat SL to win 2nd match in a row in T20 WC',\n",
       "  '35': 'Indian batters were facing slower balls in IPL, Shaheen is different cup of tea: Hayden',\n",
       "  '36': \"Harbhajan shares video after Twitter spat with Amir, says 'Just get out of my life'\",\n",
       "  '37': \"Shami shares\\xa01st post after being abused following Pak match, says 'Back to the grind'\",\n",
       "  '38': 'Dinesh Karthik, Dipika Pallikal blessed with twin boys, share pics',\n",
       "  '39': \"We've played some poor cricket in T20 WC 2021: Ex-Windies captain Lloyd\",\n",
       "  '40': \"Those who said it's impossible to do it, they're all watching: Ramiz Raja\",\n",
       "  '41': 'Jason Holder added to West Indies squad in place of injured Obed McCoy',\n",
       "  '42': 'India can consider Ishan Kishan ahead of Pandya: Gavaskar on match vs NZ',\n",
       "  '43': \"It's too easy for them right now: Atherton as England defeat B'desh\",\n",
       "  '44': 'Bowling is going to be extremely fast, Aus will defeat SL: Aakash',\n",
       "  '45': \"It's brilliant that Haris is listening to his teammates before bowling: Hogg\",\n",
       "  '46': \"Man City's bid for 5th straight League Cup ends as West Ham win 5-3 via penalties\",\n",
       "  '47': 'Noida DM Suhas LY recommended for Arjuna Award',\n",
       "  '48': 'Barcelona sack coach Ronald Koeman after 3rd defeat in last 4 league games',\n",
       "  '49': 'Dravid as coach will bring blueprint for Team India for next 5 yrs: Aakash',\n",
       "  '50': \"Facebook changes its company name to 'Meta'\",\n",
       "  '51': 'Cognizant had to choose clients to serve: CEO as attrition rate hits 33%',\n",
       "  '52': 'Google to remove pictures of under-18s from its search results on request',\n",
       "  '53': 'Google CEO Sundar Pichai forgets to unmute himself on video call; shares video',\n",
       "  '54': \"Microsoft nearly overtakes Apple as world's most valuable company\",\n",
       "  '55': 'Elon Musk and Jeff Bezos are now worth nearly half a trillion dollars',\n",
       "  '56': \"'Man who takes 6 months parental leave is a loser,' says Palantir Co-founder\",\n",
       "  '57': 'SpaceX spaceship faced urine leak issue during its first private flight',\n",
       "  '58': 'Delhi HC notice to RBI, SBI over banning UPI payments in crypto exchanges',\n",
       "  '59': \"Supreme Court quotes George Orwell's novel '1984' in Pegasus judgement\",\n",
       "  '60': 'Ridiculous to say we rebranded Facebook due to controversies: Zuckerberg',\n",
       "  '61': 'Indian govt starts probe against Facebook, seeks info about its algorithm: Report',\n",
       "  '62': \"Musk's team didn't know he was moving Tesla HQ from California: Govt\",\n",
       "  '63': 'Facebook asks staff to keep internal files since 2016 amid US scrutiny',\n",
       "  '64': 'Have made $6 bn from Tesla from $380-mn investment: US billionaire',\n",
       "  '65': 'Cyberattack at gas stations was meant to create disorder: Iran Prez',\n",
       "  '66': 'Apple sued for not providing iPhone charger in China: Reports',\n",
       "  '67': 'Japanese startup demonstrates its AI-equipped robotic arm in space',\n",
       "  '68': 'Instagram allows all users to share links in Stories via stickers',\n",
       "  '69': 'Australia recommends making Google offer alternative search engines',\n",
       "  '70': \"US lawmaker calls Meta 'a cancer to democracy' after Facebook rebranding\",\n",
       "  '71': \"Facebook hires Britney's lawyer to fight upcoming TV show: Report\",\n",
       "  '72': '907-kg tungsten cube NFT goes on sale, owner can touch cube once a year',\n",
       "  '73': 'Amazon, Verizon partner to offer satellite internet in rural areas',\n",
       "  '74': 'Huawei paid Democratic lobbyist Podesta $1 mn to lobby US govt: Report',\n",
       "  '75': \"What arguments did Aryan's lawyer give in Bombay HC which led to his bail?\",\n",
       "  '76': \"In God's home there's delay, not denial: Mika after Aryan's bail\",\n",
       "  '77': \"Sabyasachi's mangalsutra ad criticised, people say 'It isn't a lingerie ad'\",\n",
       "  '78': \"Sanjay Kapoor's daughter Shanaya shares childhood pic with Aryan after he gets bail\",\n",
       "  '79': \"SRK's fans celebrate outside his house with crackers as Aryan gets bail\",\n",
       "  '80': \"For me it's a regular case; you win some, you lose some: Aryan's lawyer as he gets bail\",\n",
       "  '81': \"Suhana shares 1st post after Aryan's bail, posts childhood pics with him & SRK\",\n",
       "  '82': \"There is a God: SRK's manager Pooja Dadlani after Aryan Khan is granted bail\",\n",
       "  '83': 'Picture abhi baaki hai mere dost: Maharashtra Minister Malik after Aryan gets bail',\n",
       "  '84': \"Rajinikanth admitted to Kauvery Hospital in Chennai for 'routine check-up'\",\n",
       "  '85': 'Pics show Shah Rukh Khan with his legal team after Aryan Khan gets bail',\n",
       "  '86': 'Aryan jailed for 25 days for something he never did: Sanjay Gupta',\n",
       "  '87': \"Chose to do stunts myself, no body doubles: Nitu on H'wood debut\",\n",
       "  '88': \"Glad that Aryan got bail, legal powers shouldn't be abused: Suchitra\",\n",
       "  '89': 'Witnessed exorcism as child, most frightening thing: Emraan Hashmi',\n",
       "  '90': 'Pinch myself every day: Chris Evans on voicing Buzz Lightyear',\n",
       "  '91': \"Was startled: Adam Levine after criticism over reaction to fan's hug\",\n",
       "  '92': \"Somewhere in my mind I knew I'll survive: Mahesh on battling cancer\",\n",
       "  '93': \"Hrithik gifts shoes to entire action team of 'Vikram Vedha'\",\n",
       "  '94': \"'83' is Kabir Khan's labour of love for Indian team: Tahir\",\n",
       "  '95': \"Malvika, who played young 'Poo' in K3G, to make lead debut in Squad\",\n",
       "  '96': \"Suriya announces his next with Bala, says 'He gave me an identity'\",\n",
       "  '97': \"Don't think rumours on my life take away focus from work: Shraddha\",\n",
       "  '98': \"Bigg Boss 13's Shefali Bagga recovers from dengue; shares pic from hospital\",\n",
       "  '99': 'Looking at February 2022: Ali Fazal on wedding with Richa Chadha'},\n",
       " 'published': {'0': '2021-10-28T18:50:37.000Z',\n",
       "  '1': '2021-10-28T11:23:39.000Z',\n",
       "  '2': '2021-10-28T12:54:02.000Z',\n",
       "  '3': '2021-10-28T12:19:23.000Z',\n",
       "  '4': '2021-10-28T14:09:26.000Z',\n",
       "  '5': '2021-10-28T11:16:26.000Z',\n",
       "  '6': '2021-10-28T13:20:23.000Z',\n",
       "  '7': '2021-10-29T03:12:11.000Z',\n",
       "  '8': '2021-10-28T15:18:48.000Z',\n",
       "  '9': '2021-10-28T16:17:21.000Z',\n",
       "  '10': '2021-10-28T10:35:34.000Z',\n",
       "  '11': '2021-10-28T12:01:05.000Z',\n",
       "  '12': '2021-10-28T10:20:33.000Z',\n",
       "  '13': '2021-10-28T10:20:52.000Z',\n",
       "  '14': '2021-10-28T10:59:39.000Z',\n",
       "  '15': '2021-10-28T14:32:14.000Z',\n",
       "  '16': '2021-10-28T17:41:07.000Z',\n",
       "  '17': '2021-10-28T14:13:27.000Z',\n",
       "  '18': '2021-10-28T17:28:57.000Z',\n",
       "  '19': '2021-10-28T12:25:59.000Z',\n",
       "  '20': '2021-10-28T16:53:31.000Z',\n",
       "  '21': '2021-10-28T10:54:07.000Z',\n",
       "  '22': '2021-10-28T10:09:22.000Z',\n",
       "  '23': '2021-10-28T09:46:59.000Z',\n",
       "  '24': '2021-10-28T16:06:43.000Z',\n",
       "  '25': '2021-10-28T16:17:22.000Z',\n",
       "  '26': '2021-10-28T10:46:47.000Z',\n",
       "  '27': '2021-10-29T03:23:56.000Z',\n",
       "  '28': '2021-10-28T04:23:15.000Z',\n",
       "  '29': '2021-10-28T05:24:16.000Z',\n",
       "  '30': '2021-10-28T09:24:05.000Z',\n",
       "  '31': '2021-10-28T08:03:56.000Z',\n",
       "  '32': '2021-10-27T17:41:47.000Z',\n",
       "  '33': '2021-10-28T16:17:18.000Z',\n",
       "  '34': '2021-10-28T17:33:50.000Z',\n",
       "  '35': '2021-10-28T17:11:58.000Z',\n",
       "  '36': '2021-10-28T07:23:32.000Z',\n",
       "  '37': '2021-10-28T17:41:08.000Z',\n",
       "  '38': '2021-10-28T15:00:33.000Z',\n",
       "  '39': '2021-10-28T07:00:43.000Z',\n",
       "  '40': '2021-10-28T10:37:09.000Z',\n",
       "  '41': '2021-10-28T04:24:23.000Z',\n",
       "  '42': '2021-10-28T09:21:30.000Z',\n",
       "  '43': '2021-10-28T03:44:09.000Z',\n",
       "  '44': '2021-10-28T08:02:50.000Z',\n",
       "  '45': '2021-10-28T08:27:02.000Z',\n",
       "  '46': '2021-10-28T05:28:16.000Z',\n",
       "  '47': '2021-10-28T12:14:26.000Z',\n",
       "  '48': '2021-10-28T04:57:17.000Z',\n",
       "  '49': '2021-10-28T10:33:49.000Z',\n",
       "  '50': '2021-10-28T18:50:37.000Z',\n",
       "  '51': '2021-10-28T07:02:32.000Z',\n",
       "  '52': '2021-10-27T12:19:55.000Z',\n",
       "  '53': '2021-10-27T15:17:41.000Z',\n",
       "  '54': '2021-10-28T11:31:13.000Z',\n",
       "  '55': '2021-10-28T04:20:29.000Z',\n",
       "  '56': '2021-10-28T11:23:39.000Z',\n",
       "  '57': '2021-10-28T07:07:35.000Z',\n",
       "  '58': '2021-10-28T12:54:02.000Z',\n",
       "  '59': '2021-10-28T15:20:31.000Z',\n",
       "  '60': '2021-10-29T04:11:19.000Z',\n",
       "  '61': '2021-10-28T08:23:36.000Z',\n",
       "  '62': '2021-10-27T11:44:03.000Z',\n",
       "  '63': '2021-10-28T07:09:56.000Z',\n",
       "  '64': '2021-10-28T10:59:39.000Z',\n",
       "  '65': '2021-10-27T12:42:09.000Z',\n",
       "  '66': '2021-10-28T10:39:12.000Z',\n",
       "  '67': '2021-10-28T08:33:12.000Z',\n",
       "  '68': '2021-10-28T09:29:54.000Z',\n",
       "  '69': '2021-10-28T11:48:56.000Z',\n",
       "  '70': '2021-10-29T03:35:47.000Z',\n",
       "  '71': '2021-10-27T10:19:42.000Z',\n",
       "  '72': '2021-10-28T05:38:33.000Z',\n",
       "  '73': '2021-10-27T11:20:00.000Z',\n",
       "  '74': '2021-10-28T11:38:22.000Z',\n",
       "  '75': '2021-10-28T15:45:14.000Z',\n",
       "  '76': '2021-10-28T14:57:26.000Z',\n",
       "  '77': '2021-10-28T17:23:34.000Z',\n",
       "  '78': '2021-10-28T13:50:42.000Z',\n",
       "  '79': '2021-10-28T14:23:35.000Z',\n",
       "  '80': '2021-10-28T12:50:30.000Z',\n",
       "  '81': '2021-10-28T17:27:54.000Z',\n",
       "  '82': '2021-10-28T14:06:20.000Z',\n",
       "  '83': '2021-10-28T14:13:06.000Z',\n",
       "  '84': '2021-10-28T16:53:47.000Z',\n",
       "  '85': '2021-10-28T15:02:28.000Z',\n",
       "  '86': '2021-10-28T15:01:27.000Z',\n",
       "  '87': '2021-10-28T14:51:48.000Z',\n",
       "  '88': '2021-10-28T17:04:25.000Z',\n",
       "  '89': '2021-10-28T14:34:39.000Z',\n",
       "  '90': '2021-10-28T17:54:11.000Z',\n",
       "  '91': '2021-10-29T03:39:23.000Z',\n",
       "  '92': '2021-10-28T14:39:01.000Z',\n",
       "  '93': '2021-10-28T16:01:07.000Z',\n",
       "  '94': '2021-10-28T12:53:19.000Z',\n",
       "  '95': '2021-10-28T15:39:32.000Z',\n",
       "  '96': '2021-10-28T16:14:18.000Z',\n",
       "  '97': '2021-10-28T13:19:58.000Z',\n",
       "  '98': '2021-10-28T14:39:18.000Z',\n",
       "  '99': '2021-10-28T16:30:13.000Z'},\n",
       " 'author': {'0': 'Pragya Swastik',\n",
       "  '1': 'Kiran Khatri',\n",
       "  '2': 'Pragya Swastik',\n",
       "  '3': 'Pragya Swastik',\n",
       "  '4': 'Pragya Swastik',\n",
       "  '5': 'Pragya Swastik',\n",
       "  '6': 'Pragya Swastik',\n",
       "  '7': 'Kiran Khatri',\n",
       "  '8': 'Pragya Swastik',\n",
       "  '9': 'Pragya Swastik',\n",
       "  '10': 'Kiran Khatri',\n",
       "  '11': 'Kiran Khatri',\n",
       "  '12': 'Pragya Swastik',\n",
       "  '13': 'Kiran Khatri',\n",
       "  '14': 'Aishwarya Awasthi',\n",
       "  '15': 'Krishna Raj',\n",
       "  '16': 'Krishna Raj',\n",
       "  '17': 'Krishna Raj',\n",
       "  '18': 'Krishna Raj',\n",
       "  '19': 'Krishna Raj',\n",
       "  '20': 'Krishna Raj',\n",
       "  '21': 'Krishna Raj',\n",
       "  '22': 'Krishna Raj',\n",
       "  '23': 'Krishna Raj',\n",
       "  '24': 'Krishna Raj',\n",
       "  '25': 'Anmol Sharma',\n",
       "  '26': 'Anmol Sharma',\n",
       "  '27': 'Anmol Sharma',\n",
       "  '28': 'Anmol Sharma',\n",
       "  '29': 'Anmol Sharma',\n",
       "  '30': 'Anmol Sharma',\n",
       "  '31': 'Anmol Sharma',\n",
       "  '32': 'Anmol Sharma',\n",
       "  '33': 'Pragya Swastik',\n",
       "  '34': 'Anmol Sharma',\n",
       "  '35': 'Anmol Sharma',\n",
       "  '36': 'Anmol Sharma',\n",
       "  '37': 'Anmol Sharma',\n",
       "  '38': 'Anmol Sharma',\n",
       "  '39': 'Ankur Taliyan',\n",
       "  '40': 'Ankur Taliyan',\n",
       "  '41': 'Ankur Taliyan',\n",
       "  '42': 'Ankur Taliyan',\n",
       "  '43': 'Ankur Taliyan',\n",
       "  '44': 'Ankur Taliyan',\n",
       "  '45': 'Ankur Taliyan',\n",
       "  '46': 'Ankur Taliyan',\n",
       "  '47': 'Deepika Bhatt',\n",
       "  '48': 'Ankur Taliyan',\n",
       "  '49': 'Ankur Taliyan',\n",
       "  '50': 'Pragya Swastik',\n",
       "  '51': 'Aishwarya Awasthi',\n",
       "  '52': 'Pragya Swastik',\n",
       "  '53': 'Pragya Swastik',\n",
       "  '54': 'Aishwarya Awasthi',\n",
       "  '55': 'Kiran Khatri',\n",
       "  '56': 'Kiran Khatri',\n",
       "  '57': 'Ankush Verma',\n",
       "  '58': 'Pragya Swastik',\n",
       "  '59': 'Pragya Swastik',\n",
       "  '60': 'Aishwarya Awasthi',\n",
       "  '61': 'Kiran Khatri',\n",
       "  '62': 'Aishwarya Awasthi',\n",
       "  '63': 'Aishwarya Awasthi',\n",
       "  '64': 'Aishwarya Awasthi',\n",
       "  '65': 'Dharini Mudgal',\n",
       "  '66': 'Aishwarya Awasthi',\n",
       "  '67': 'Aishwarya Awasthi',\n",
       "  '68': 'Aishwarya Awasthi',\n",
       "  '69': 'Aishwarya Awasthi',\n",
       "  '70': 'Aishwarya Awasthi',\n",
       "  '71': 'Aishwarya Awasthi',\n",
       "  '72': 'Aishwarya Awasthi',\n",
       "  '73': 'Aishwarya Awasthi',\n",
       "  '74': 'Aishwarya Awasthi',\n",
       "  '75': 'Daisy Mowke',\n",
       "  '76': 'Kriti Kambiri',\n",
       "  '77': 'Daisy Mowke',\n",
       "  '78': 'Daisy Mowke',\n",
       "  '79': 'Daisy Mowke',\n",
       "  '80': 'Daisy Mowke',\n",
       "  '81': 'Daisy Mowke',\n",
       "  '82': 'Daisy Mowke',\n",
       "  '83': 'Arshiya Chopra',\n",
       "  '84': 'Udit Gupta',\n",
       "  '85': 'Arshiya Chopra',\n",
       "  '86': 'Kriti Kambiri',\n",
       "  '87': 'Kriti Kambiri',\n",
       "  '88': 'Udit Gupta',\n",
       "  '89': 'Kriti Kambiri',\n",
       "  '90': 'Kriti Kambiri',\n",
       "  '91': 'Kriti Kambiri',\n",
       "  '92': 'Udit Gupta',\n",
       "  '93': 'Udit Gupta',\n",
       "  '94': 'Udit Gupta',\n",
       "  '95': 'Kriti Kambiri',\n",
       "  '96': 'Udit Gupta',\n",
       "  '97': 'Kriti Kambiri',\n",
       "  '98': 'Udit Gupta',\n",
       "  '99': 'Kriti Kambiri'},\n",
       " 'content': {'0': 'Facebook on Thursday announced it\\'s changing the company\\'s name to \\'Meta\\' to reflect its focus on \\'metaverse\\'. Using augmented reality and virtual reality, Facebook plans to create a greater sense of \"virtual presence\" to mimic the experience of interacting in person. \"The names of the apps that we build—Facebook, Instagram, Messenger and WhatsApp—will remain the same,\" the company said.',\n",
       "  '1': 'Several Twitter users criticised US-based Palantir Technologies\\' Co-founder Joe Lonsdale after he said, \"Any man in an important position who takes six months of leave for a newborn is a loser.\" Lonsdale was responding to a tweet about US Transportation Secretary Pete Buttigieg, who took leave for his child. \"Respect that people have different choices,\" Initialized Capital\\'s Garry Tan wrote.',\n",
       "  '2': \"The Delhi High Court on Thursday issued notice to RBI, SBI, NPCI and others on a petition seeking the rollback of the decision of prohibiting UPI payments in the crypto exchanges. The plea alleged that SBI's decision of blocking UPI services for WazirX users violated a Supreme Court judgement. The matter is now slated for hearing on December 24.\",\n",
       "  '3': 'Vijay Shekhar Sharma, the CEO of Paytm that plans to raise ₹18,300 crore in India\\'s biggest IPO, told Moneycontrol, \"Indian market has three key beauties.\" Sharma said, \"It has a large number of underserved customers...Second, there\\'s a large customer base who are smartphone (users).\" He added, \"The third is a market where there\\'s a new product to serve to customers.\"',\n",
       "  '4': 'Paytm will continue to allow employees to work from home and will not force them to come to the office, CEO Vijay Shekhar Sharma said on Thursday. He added, \"We will be 100% flexible forever for good.\" In September, Sharma had tweeted, \"Future of work (for technology/ knowledge companies) will be a choice between hybrid and work from home.\"',\n",
       "  '5': \"Ace investor Rakesh Jhunjhunwala is the top new entrant on EdelGive Hurun India Philanthropy List 2021 by donating ₹50 crore. He's followed by Intas Pharmaceuticals' Hasmukh Chudgar & family and FMCG industry's Rajiv Kumar & Ravinder Kumar. Actor Akshay Kumar debuted on the list by donating ₹26 crore, followed by Zerodha's Nithin & Nikhil Kamath and Sun Pharma's Dilip Shanghvi.\",\n",
       "  '6': 'Bajaj Auto\\'s MD Rajiv Bajaj on Thursday took a jibe at startups that have entered the electric scooter segment and said that legacy companies like theirs eat OATS (Ola, Ather, Tork Motors and SmartE) for breakfast. \"I\\'m going to bet on BET — Bajaj, (Royal) Enfield and TVS,\" he said. \"They have a proven track record,\" he added.',\n",
       "  '7': \"The government on Friday extended Reserve Bank of India (RBI) Governor Shaktikanta Das' tenure by three more years. The reappointment is effective for three years beyond December 10, 2021, or until further orders, whichever is earlier, an official statement said. Das was appointed as the 25th Governor of the RBI in December 2018 after Urjit Patel resigned from the post.\",\n",
       "  '8': \"The Railways Ministry has asked the IRCTC to share 50% of its proceeds of service charge on e-ticketing. The IRCTC will start sharing half of the convenience fees with the government from November 1, 2021. Analysts believe the development may impact IRCTC's revenues in the future as a large chunk of IRCTC's revenues come from internet ticketing services.\",\n",
       "  '9': \"The investors' wealth dropped by ₹4.82 lakh crore on Thursday with the BSE Sensex diving 1,159 points to close at 59,985 in its worst fall in over six months. The combined m-cap of BSE-listed companies declined by ₹4,82,324.47 crore to stand at ₹2,60,48,949.80 crore. ITC was the biggest laggard, falling 5.54%, followed by ICICI Bank, Kotak Bank and Axis Bank.\",\n",
       "  '10': \"The Sensex ended 1,159 points lower at 59,985 on Thursday as the Indian markets recorded their biggest single-day fall since April. Meanwhile, the Nifty 50 index slumped around 354 points to close at 17,857. The indices ended with heavy losses following Morgan Stanley's downgrade of Indian equities to 'equal-weight' from 'overweight' due to expensive valuations.\",\n",
       "  '11': 'Former IndiGo chief Aditya Ghosh on Thursday revealed that he received a degree in Advanced Management Program from the Harvard Business School seven months ago. Paying homage to his late father on his birthday, Ghosh wrote, \"He would\\'ve been so proud and happy...I\\'d never been to business school...I\\'m so happy that my father could see me enrol into the program.\"',\n",
       "  '12': \"Wipro's Founder Chairman Azim Premji and family have topped the EdelGive Hurun India Philanthropy List 2021 by donating ₹9,713 crore from April 1, 2020, to March 31, 2021, at an average of ₹27 crore per day. They're followed by HCL Tech's Shiv Nadar and family, Mukesh Ambani and family and Kumar Mangalam Birla and family. Infosys' Nandan Nilekani ranks fifth.\",\n",
       "  '13': 'Elon Musk, the world\\'s richest person with $292 billion fortune, said taxing all \"billionaires at 100%\" would only make a \"small dent\" toward paying off the US national debt. \"According to their (lawmakers\\') own estimates, this tax only covers 10% of the $3.5 trillion spending bill,\" he wrote on Twitter. \"Spending is the real problem,\" the Tesla CEO added.',\n",
       "  '14': 'US billionaire Ron Baron has said that his fund has made $6 billion from Tesla from a $380-million investment made seven or eight years ago. \"I think we\\'ll probably be an investor for another 10 years, same with SpaceX,\" Baron told CNBC. \"When I first met Elon 10 years ago...I was...skeptical about whether it [Tesla] would be successful,\" he added.',\n",
       "  '15': \"The initial public offering (IPO) of Nykaa's operator, FSN E-Commerce Ventures, was subscribed 1.55 times on the first day of the issue. It received bids for over 4.09 crore equity shares against an IPO size of 2.64 crore, data showed. The portion reserved for retail investors was subscribed 3.5 times, while that of qualified institutional buyers was subscribed 1.39 times.\",\n",
       "  '16': \"The Bombay High Court quashed the cheating proceedings issued against Amazon's India head Amit Agarwal by a Magistrate Court in Ulhasnagar. A customer had filed a complaint after he placed an order for a hard drive on Amazon's website for ₹3,999 but didn't receive it. Agarwal wasn't personally dealing with the transaction and can't be accused of cheating, HC said.\",\n",
       "  '17': 'The Ministry of Finance has released ₹44,000 crore to states and Union Territories with legislature to compensate them for the shortfall in GST revenue. With this, the total amount released in 2021-22 as GST compensation reached ₹1.59 lakh crore, the ministry said. \"It\\'s expected...this release will help...states and UTs in planning...public expenditure among other things,\" it added.',\n",
       "  '18': \"IndiGo CEO Ronojoy Dutta has said that India seems to be finally emerging out of the COVID-19 pandemic. He added that it is now time for the country's aviation industry to repair and heal from the damage caused by the pandemic. IndiGo operator InterGlobe Aviation reported a net loss of ₹1,435.7 crore for July to September quarter.\",\n",
       "  '19': \"India's gold demand increased by 47% year-on-year to 139.1 tonnes in the July-September quarter, the World Gold Council (WGC) said in a report. Gold demand in the country is bouncing back to pre-COVID-19 levels and the outlook looks bullish going forward, it added. In terms of value, India's gold demand went up by 37% to ₹59,330 crore in the quarter.\",\n",
       "  '20': 'The RBI should let the rupee rally against the dollar to contain imported inflation coming in mainly from crude prices and help push exports, SBI Research said in a report. Current account risks from rising oil prices can be contained at 1.4% of GDP, it added. Indian rupee gained 11 paise to close at 74.92 against US dollar on Thursday.',\n",
       "  '21': 'Adani Ports and Special Economic Zone shares tumbled by 7.67% to close at ₹688.45 after it reported a 30.58% fall in consolidated net profit at ₹968.3 crore for the July-September quarter. It had posted a consolidated net profit of ₹1,393.7 crore in the year-ago period. The company also said it was abandoning plans to build a container terminal in Myanmar.',\n",
       "  '22': \"India's crude oil imports in September increased by 16% from a year earlier to reach their highest level since April. According to data by Petroleum Planning and Analysis Cell, crude oil imports rose to 17.61 million tonnes in September. Reliance Industries, the operator of the world's biggest refining complex, imported nearly 12% more oil in September than in August.\",\n",
       "  '23': \"The Supreme Court has allowed the Centre's appeal against the Delhi High Court's order, which permitted Bharti Airtel to claim a GST refund of ₹923 crore. The High Court had allowed Bharti Airtel to rectify its GST returns from July to September 2017 and claim the refund. The High Court had also directed Centre to verify the excess GST claim.\",\n",
       "  '24': 'Morgan Stanley on Thursday downgraded Indian equities to equal-weight from overweight due to expensive valuations. The brokerage said that Indian equities could see some consolidation ahead of the Fed tapering, a likely rate hike by the RBI in February and higher energy costs. \"We see valuations as increasingly constraining returns over the next 3-6 months,\" Morgan Stanley said.',\n",
       "  '25': 'Australia batter David Warner said he will put his name in upcoming IPL mega auction. \"By the signs of the recent IPL, I won\\'t be retained by the Sunrisers, so I\\'m looking forward to a fresh start,\" he said. He reiterated that SRH management has still not communicated the reason for dropping him in later part of IPL 2021.',\n",
       "  '26': 'Cricketer-turned-commentator Aakash Chopra has said that ICC is just doing \"tokenism\" by including Associate teams in World Cups. \"It is like giving a lollipop to a kid...If you genuinely want to bring Associate nations forward then don\\'t remember them only World Cup to World Cup, it\\'s not Diwali that\\'ll come annually. You will have to play them consistently,\" he added.',\n",
       "  '27': 'During a press conference following Australia\\'s T20 World Cup 2021 win against Sri Lanka, opener David Warner tried to remove Coca-Cola bottles in front of him like Cristiano Ronaldo. \"Can I remove these?\" Warner asked. After being asked to put the bottles back on the table, Warner jokingly said, \"If it\\'s good enough for Cristiano, it’s good enough for me.\"',\n",
       "  '28': 'After Pakistani journalist Iqra Nasir shared a video of Harbhajan Singh getting hit for sixes by Shahid Afridi, he shared a video of him hitting a six and wrote, \"For your reference...illiterate journalist.\" Iqra then shared a video of Younis Khan hitting a six against Harbhajan, to which he replied, \"Does this illiterate journalist open her mouth to just s**t?\"',\n",
       "  '29': \"West Indies' Chris Gayle, aged over 42, is the oldest cricketer featuring in the ongoing T20 World Cup 2021. Gayle is followed by Pakistan all-rounders, 41-year-old Mohammad Hafeez and 39-year-old Shoaib Malik. West Indies' Dwayne Bravo is the fourth-oldest player in the tournament at the age of 38. He is followed by Namibia's Craig Williams, who's 37 years old.\",\n",
       "  '30': 'Ex-India opener Gautam Gambhir has come out in support of Mohammad Shami, who was trolled and abused after Pakistan defeated India in T20 World Cup 2021. \"Why can\\'t we just say, \\'Well done Pakistan\\' and leave it at that?\" Gambhir said. He added, \"Shami\\'s integrity towards his team and country was being questioned. How ridiculous can that be?\"',\n",
       "  '31': 'South Africa wicketkeeper-batter Quinton De Kock issued his first statement after refusing to take a knee for \\'Black Lives Matter\\' movement in T20 World Cup. \"I didn\\'t understand why I had to prove it with a gesture,\" he wrote. He added being called a racist hurt him. \"I\\'d love nothing more than to play cricket for...South Africa again,\" he added.',\n",
       "  '32': \"Namibia defeated Scotland by four wickets in their first T20 World Cup Super 12 stage Group 2 match on Wednesday. The match witnessed Namibia's Ruben Trumpelmann taking three wickets in the first over of Scotland's innings. Namibia chased down the 110-run target on the first ball of the 20th over with a six from JJ Smit.\",\n",
       "  '33': 'Cristiano Ronaldo on Thursday announced that he is expecting twins with his girlfriend Georgina Rodríguez. \"Our hearts are full of love - we can\\'t wait to meet you,\" he wrote on Instagram as he shared a picture that showed him with Georgina, holding the twins\\' ultrasounds. The 36-year-old Manchester United footballer is already a father to four kids.',\n",
       "  '34': 'David Warner smashed 65 runs off 42 deliveries as Australia defeated Sri Lanka by seven wickets to win their second match in a row in T20 World Cup 2021. Mitchell Starc, Pat Cummins and Adam Zampa picked up two wickets each to restrict Sri Lanka at 154/6 in their 20 overs. Australia chased down the target in 17 overs.',\n",
       "  '35': 'Pakistan batting consultant Matthew Hayden has said that Team India batters were facing 130 kmph deliveries during the IPL 2021. He added, \"It\\'s a different cup of tea when you are facing someone running and bowling at Shaheen Shah Afridi\\'s pace.\" Shaheen took three wickets to win Player of the Match award in India-Pakistan T20 World Cup 2021 match.',\n",
       "  '36': 'Veteran off-spinner Harbhajan Singh has shared a video on YouTube to address his Twitter spat with Pakistani fast bowler Mohammad Amir following Pakistan\\'s win against India. \"He is a disgrace. He has put a black spot on world cricket. No one will forget it,\" he said. \"I shouldn\\'t have reacted to your tweets...just get out of my life,\" he added.',\n",
       "  '37': 'Fast bowler Mohammad Shami shared his first post on social media after being abused and trolled online following India\\'s defeat to Pakistan in T20 World Cup 2021. Shami shared a picture of himself with his teammates and wrote, \"Back to the grind. Had productive...training session and loved talking to our young talented cricketers...Looking forward to our next game against NZ.\"',\n",
       "  '38': 'Cricketer Dinesh Karthik and his wife, squash player Dipika Pallikal, have been blessed with twin boys. Sharing pictures on Instagram, Karthik wrote, \"Dipika and I have been blessed with two beautiful baby boys...Kabir Pallikal Karthik and Zian Pallikal Karthik, and we could not be happier.\" Karthik and Dipika got married in 2015.',\n",
       "  '39': 'Ex-West Indies captain Clive Lloyd, who led the team to two World Cup titles, has said the Kieron Pollard-led side has played some poor cricket in the ongoing T20 World Cup 2021. \"The first match [against England] was dismal...we [should\\'ve] picked ourselves up [against SA] but that too didn\\'t happen...as defending champions, this was a very ordinary performance,\" he stated.',\n",
       "  '40': 'With Pakistan defeating India and New Zealand in the ongoing T20 World Cup, Pakistan Cricket Board (PCB) Chairman Ramiz Raja took to Twitter to share an image to criticise those who doubted the team. \"They\\'re all watching. The ones who said it is impossible to do it. The ones who want to watch you fail doing it,\" it said.',\n",
       "  '41': 'All-rounder Jason Holder has been added to the West Indies squad for the T20 World Cup as a replacement for seamer Obed McCoy, who has been ruled out of the rest of the tournament due to a right shin injury. Holder was already in the UAE as a travelling reserve. West Indies have lost both of their opening two games.',\n",
       "  '42': 'Ex-India captain Sunil Gavaskar has said that Team India can consider Ishan Kishan ahead of Hardik Pandya in their match against New Zealand in the T20 World Cup on Sunday. \"If Hardik is not bowling...I\\'ll surely consider Ishan...And perhaps, you can think of Shardul Thakur in place of Bhuvneshwar Kumar,\" he stated. India lost to Pakistan in their WC opener.',\n",
       "  '43': 'Ex-England opener Michael Atherton said it\\'s \"too easy\" for England \"right now\" after the Eoin Morgan-led side defeated Bangladesh to consolidate their place at the top of the Group 1 table. \"They\\'ve breezed past West Indies and Bangladesh, and now their net run-rate is absolutely fantastic...they have points in bag. They look [like] one of the form teams,\" he added.',\n",
       "  '44': 'Commentator Aakash Chopra has predicted Australia to win against Sri Lanka in the T20 World Cup 2021 on Thursday. \"The bowling is going to be extremely fast, whether it is Starc, Cummins or Hazlewood. I feel [Sri Lanka\\'s] three or more wickets can fall [during power play],\" he added. Both Australia and Sri Lanka have won their opening games.',\n",
       "  '45': 'Ex-Australia spinner Brad Hogg has praised Pakistan pacer Haris Rauf for his performance in the ongoing T20 World Cup 2021. \"Haris knows he hasn\\'t got much experience...at the international level. So, he\\'s listening to his teammates...like Babar Azam for one, Malik and Hafeez...I thought that was brilliant,\" Hogg added. Haris was named \\'Man of the Match\\' against New Zealand.',\n",
       "  '46': 'West Ham United ended Manchester City\\'s four-year reign as English League Cup title holders after their 5-3 penalty-shootout victory in the fourth round of the competition on late Wednesday night. \"Nothing is eternal...We fought a lot to win and win this competition. Today it\\'s finished, and next season we\\'ll be back to win it again,\" said City manager Pep Guardiola.',\n",
       "  '47': 'Gautam Buddha Nagar District Magistrate Suhas Lalinakere Yathiraj has been recommended for the Arjuna Award by the selection committee of the National Sports Awards. He won a silver medal in the final of the men\\'s singles SL4 category at the Tokyo Paralympics held in September. \"I thank all the citizens for giving me so much love and affection,\" he said.',\n",
       "  '48': \"Barcelona have sacked coach Ronald Koeman following their 1-0 loss to Rayo Vallecano, their third defeat in their last four La Liga games. Barcelona, who're currently at ninth position in the Spanish league standings, had earlier lost to Real Madrid in the El Clasico on Sunday. According to reports, the role has now been offered to club's ex-player Xavi Hernandez.\",\n",
       "  '49': 'Commentator Aakash Chopra has said that if Rahul Dravid becomes Team India\\'s head coach, then the ex-India captain will \"bring a blueprint for Indian cricket for the next five or ten years\". Aakash added, \"We can see the pair of Dravid and Rohit Sharma for white-ball cricket and Dravid with Virat Kohli for Test matches. It\\'s going to be interesting.\"',\n",
       "  '50': 'Facebook on Thursday announced it\\'s changing the company\\'s name to \\'Meta\\' to reflect its focus on \\'metaverse\\'. Using augmented reality and virtual reality, Facebook plans to create a greater sense of \"virtual presence\" to mimic the experience of interacting in person. \"The names of the apps that we build—Facebook, Instagram, Messenger and WhatsApp—will remain the same,\" the company said.',\n",
       "  '51': 'Cognizant CEO Brian Humphries has said the firm does not have enough headcount to \"fulfill our potential\" and that it had to choose the clients to serve and deals to chase. Cognizant in its September quarter saw 33% attrition rate. In comparison, attrition for Infosys, Wipro and Tech Mahindra stood close to 20%, while TCS reported 11.9%.',\n",
       "  '52': 'Google has launched a safety feature to remove images of anyone below the age of 18 from its search results at the request of the individual under 18 or their parent or guardian. Originally announced in August, the feature is now widely available. Removal of images can be requested through a Google Search Help page by submitting the image URLs.',\n",
       "  '53': 'Google CEO Sundar Pichai posted a video on Twitter showing him forgetting to unmute himself on a video call. Pichai was talking to Muppet character Kermit the Frog when he said, \"Can\\'t believe I\\'m talking to Google\\'s CEO and he\\'s on mute.\" Pichai unmuted himself and said, \"I was on mute...I\\'ve done it a few times this year...like everyone else.\"',\n",
       "  '54': \"Microsoft nearly overtook Apple as the world's most valuable firm on October 27 after a surge in its shares. Microsoft's shares jumped 4.2% to end at a record $323.17 after it reported a net income of $20.5 billion in the September-quarter. Its market capitalisation surged to $2.426 trillion, just short of Apple's $2.461 trillion valuation, Refinitiv data showed.\",\n",
       "  '55': \"The combined net worth of the world's two richest persons Elon Musk and Jeff Bezos neared $500 billion on Wednesday amid a rally in tech stocks. Tesla and SpaceX CEO's net worth rose to $292 billion, while Amazon and Blue Origin Founder Bezos' fortune rose to $196 billion. Their fortunes are more than Johnson & Johnson's market value, Bloomberg reported.\",\n",
       "  '56': 'Several Twitter users criticised US-based Palantir Technologies\\' Co-founder Joe Lonsdale after he said, \"Any man in an important position who takes six months of leave for a newborn is a loser.\" Lonsdale was responding to a tweet about US Transportation Secretary Pete Buttigieg, who took leave for his child. \"Respect that people have different choices,\" Initialized Capital\\'s Garry Tan wrote.',\n",
       "  '57': 'SpaceX\\'s Crew Dragon spaceship faced a urine leak during its first private flight last month. According to William Gerstenmaier, a SpaceX vice-president, a tube came unglued during SpaceX\\'s flight, spilling urine on to fans and beneath the floor. \"We\\'ve fixed this problem in the tank by essentially making it an all-welded structure,\" Gerstenmaier said.',\n",
       "  '58': \"The Delhi High Court on Thursday issued notice to RBI, SBI, NPCI and others on a petition seeking the rollback of the decision of prohibiting UPI payments in the crypto exchanges. The plea alleged that SBI's decision of blocking UPI services for WazirX users violated a Supreme Court judgement. The matter is now slated for hearing on December 24.\",\n",
       "  '59': 'The Supreme Court on Wednesday appointed an independent expert committee into the allegations of spying using Israeli spyware Pegasus. The apex court\\'s 46-page-long judgement opened with a quote from English novelist George Orwell\\'s novel \\'Nineteen Eighty-Four\\' (also stylised as 1984). \"If you want to keep a secret, you must also hide it from yourself,\" the bench wrote in its judgement.',\n",
       "  '60': 'Meta CEO Mark Zuckerberg on being asked if Facebook\\'s rebranding to \\'Meta\\' was because of controversies surrounding the firm said, \"Even though I think some people might want to make that connection, I think that\\'s sort of a ridiculous thing.\" \"If anything, I think...this is not the environment that you would want to introduce a new brand in,\" he added.',\n",
       "  '61': 'The Indian government has reportedly started a probe against Facebook and sought information about the algorithm it uses for content moderation and how it\\'s preventing online harm.The government was \"alarmed\" by revelations made in leaked internal documents about \\'India experiment\\', where a test account was filled with gory images and fake news within 21 days, the report said.',\n",
       "  '62': 'Director of California Governor Gavin Newsom\\'s Office of Business and Economic Development Dee Dee Myers has said Tesla CEO Elon Musk had not told his team about moving Tesla\\'s headquarters from California to Texas. She added California government officials were also not informed about the plans. \"I don\\'t think anybody knows...what it means that he\\'s moving his headquarters,\" Myers said.',\n",
       "  '63': 'Facebook has asked its employees to preserve all internal documents amid rising scrutiny into it in the US. \"We\\'re currently the focus of extensive media coverage based on a swath of internal documents,\" Facebook reportedly told the staff. Facebook confirmed the move, called a \\'legal hold\\', saying, \"Document preservation requests are part of the process of responding to legal inquiries.\"',\n",
       "  '64': 'US billionaire Ron Baron has said that his fund has made $6 billion from Tesla from a $380-million investment made seven or eight years ago. \"I think we\\'ll probably be an investor for another 10 years, same with SpaceX,\" Baron told CNBC. \"When I first met Elon 10 years ago...I was...skeptical about whether it [Tesla] would be successful,\" he added.',\n",
       "  '65': 'Iran\\'s President Ebrahim Raisi has said the cyberattack, which disrupted the sale of heavily subsidised gasoline in Iran on Tuesday, was designed to get \"people angry by creating disorder\". Around 4,300 gas stations in Iran were reportedly disabled by the cyberattack. Raisi said, \"There should be serious readiness in...cyberwar & related bodies should not allow...enemy to follow....ominous aims.\"',\n",
       "  '66': 'Some Chinese students have sued Apple for not including a charger with an iPhone 12 Pro Max, media reports said. They claimed the USB-C to Lightning cable in the box was not compatible with other chargers, leaving one student unable to charge the phone. They also alleged Apple is using environmental concerns as an excuse to promote MagSafe chargers.',\n",
       "  '67': 'Tokyo space startup Gitai Japan successfully conducted a technology demonstration of its AI-equipped autonomous robotic arm inside the space station last week. The robot carried out two common crew tasks, operating cables and switches, and assembling structures and panels. It was sent to orbit aboard a SpaceX Dragon capsule earlier in August.',\n",
       "  '68': 'Instagram has announced that all users will now have access to its link sticker feature in Stories. The feature allows users to add a link to their Instagram story via a sticker, which then redirects viewers once they tap on it. The feature was earlier limited to verified accounts or those with a certain number of followers.',\n",
       "  '69': 'Australian regulator ACCC has recommended making Google install a \"choice screen\" on smartphones using its Android operating system, to let users pick another search engine. It also wants to limit Google\\'s ability to pay Apple to have its search engine as the default option on iOS devices. Google has a 94% share of the search market in Australia, ACCC said.',\n",
       "  '70': 'US lawmaker Alexandria Ocasio-Cortez in response to Facebook changing its name to \\'Meta\\' said, \"Meta as in \\'we are a cancer to democracy metastasising into a global surveillance and propaganda machine for boosting authoritarian regimes and destroying civil society...for profit!\\'\" Facebook has changed the company\\'s name to \\'Meta\\', while the name of its main app will remain the same.',\n",
       "  '71': \"Facebook has hired Mathew Rosengart, the lawyer who fought against Britney Spears' conservatorship, to fight upcoming TV series 'Doomsday Machine', Deadline reported. The series is an adaption of An Ugly Truth, a book on Facebook's steps on issues like misinformation, hate speech and user security. Facebook has threatened legal action if any false statements about it appear in the show.\",\n",
       "  '72': 'An NFT of a 907-kilogramme tungsten cube has been put up for sale and the minimum bid for it currently stands at $190,858. The NFT owner will be allowed one supervised visit to the cube per year to touch or photograph it. The 14.545-inch cube was created by US-based Midwest Tungsten Service and will be stored at its headquarters.',\n",
       "  '73': \"US-based Verizon is partnering with Amazon to use its satellite internet system to offer rural broadband access in the US. Amazon's Project Kuiper, a network of 3,236 satellites, aims to offer high-speed internet globally. The firms will initially concentrate on expanding Verizon's LTE and 5G services using Amazon's Project Kuiper for backhaul, boosting coverage in areas with no high-speed data.\",\n",
       "  '74': \"Chinese telecommunications firm Huawei paid Democratic lobbyist Tony Podesta $1 million to lobby the Biden administration on its behalf in the third quarter, Reuters reported. The Washington lobbyist had disclosed a $500,000 payment from Huawei in a third-quarter lobbying report. The additional undisclosed $500,000 payment will reportedly be included in Podesta's fourth-quarter filing in January.\",\n",
       "  '75': 'Aryan Khan, who was granted bail by Bombay HC, was represented by Mukul Rohatgi. Rohatgi submitted that arrest memo didn\\'t give true and correct grounds for arrest. He reiterated it was a clear case of no possession, no consumption and no recovery. He said WhatsApp chats didn\\'t relate to cruise party and argued there was no \"conscious possession\" of contraband.',\n",
       "  '76': 'After Aryan Khan was granted bail in the Mumbai cruise drugs case, singer Mika Singh tweeted, \"Bhagwan ke ghar mein der hai andher nahi (In God\\'s home there is delay, not denial).\" Mika also congratulated Shah Rukh Khan writing that the actor has made a huge contribution to the film fraternity. \"So happy that [bail] was finally granted,\" Mika wrote.',\n",
       "  '77': 'Designer Sabyasachi\\'s latest \\'Intimate Fine Jewellery\\' collection has been criticised as one of the pictures features a model in a black bra. \"This is no lingerie or condom ad...So creatively bankrupt...they\\'ve to use semi-naked models for a Mangalsutra ad,\" a Twitter user wrote while another comment read, \"I thought this was intimate wear\". Several others also called the ad \"distasteful\".',\n",
       "  '78': \"Actor Sanjay Kapoor's daughter Shanaya Kapoor took to Instagram Stories to share a childhood picture with Aryan Khan after he was granted bail by the Bombay High Court on Thursday. Shanaya is a close friend of Aryan and his sister Suhana Khan. Her mother Maheep Kapoor had visited Shah Rukh Khan's residence soon after Aryan was arrested.\",\n",
       "  '79': \"Shah Rukh Khan's fans gathered outside his Mumbai residence 'Mannat' to celebrate as the Bombay High Court granted bail to the actor's son Aryan Khan. Two men were seen holding a banner that read 'Welcome Home Prince Aryan' as others burst crackers. Aryan, 23, was arrested on October 3, hours after drug raids on a cruise ship.\",\n",
       "  '80': 'After Aryan Khan was granted bail, Mukul Rohatgi, who was representing Aryan during his bail plea hearing at Bombay High Court, said, \"For me, it is a regular case- [you] win some, [you] lose some.\" \"I am happy that he...got bail,\" Rohatgi added. He further said Aryan will come out of jail after the order is released from the court.',\n",
       "  '81': 'Shah Rukh Khan\\'s daughter Suhana took to Instagram to share a collage of childhood pictures with Shah Rukh and brother Aryan Khan after Aryan was granted bail on Thursday. \"I love you,\" she wrote in the caption. Suhana also liked a post by actor Sanjay Kapoor\\'s wife Maheep, dedicated to Gauri Khan and Aryan Khan following Aryan\\'s bail.',\n",
       "  '82': 'After Bombay High Court on Thursday granted bail to Aryan Khan in the Mumbai cruise drugs case, Shah Rukh Khan\\'s manager Pooja Dadlani reacted. Taking to Instagram Stories, she wrote, \"There is a God.\" \"Thank you everyone for your love and prayers. Truth prevails,\" Pooja added. Aryan is likely to come out of jail by tomorrow or Saturday.',\n",
       "  '83': 'Maharashtra Minister Nawab Malik on Thursday tweeted, \"Picture abhi baaki hai mere dost (The picture is still not over, my friend).\" His tweet came soon after Shah Rukh Khan\\'s son Aryan Khan was granted bail by Bombay High Court in Mumbai cruise drugs case. Arbaaz Merchantt and Munmun Dhamecha were also granted bail.',\n",
       "  '84': 'Veteran actor Rajinikanth was admitted to Chennai\\'s Kauvery Hospital on Thursday. \"It\\'s a health check-up done routinely on a periodical basis. He\\'s now in a private hospital for the check-up,\" the actor\\'s publicist Riaz K Ahmed told PTI. In December last year, the 70-year-old actor was admitted to Apollo Hospital in Hyderabad following severe fluctuations in his blood pressure.',\n",
       "  '85': 'Hours after son Aryan Khan was granted bail by Bombay High Court in Mumbai cruise drugs case, pictures showing Shah Rukh Khan with his legal team surfaced online on Thursday. \"No possession, no evidence, no consumption, no conspiracy, right from first moment when he (Aryan) was detained on October 2! Satyameva Jayate,\" legal team of lawyer Satish Maneshinde said.',\n",
       "  '86': 'Filmmaker Sanjay Gupta took to Twitter to say that he is very upset with a system that kept a young man behind bars for more than 25 days for something he never did. He tweeted after Aryan Khan was granted bail in the Mumbai cruise drugs case. \"This has to change! God bless you and stay strong, Aryan,\" Sanjay wrote.',\n",
       "  '87': 'Actress Nitu Chandra has revealed that she chose to do her own stunts without body doubles in her Hollywood debut film \\'Never Back Down: Revolt\\'. \"Being a black belt 4th Dan in Taekwondo, I was confident about this role,\" she added. Nitu further said her role in the film was her shot at doing something new as an actor.',\n",
       "  '88': 'After the Bombay High Court granted bail to Shah Rukh Khan\\'s son Aryan in the Mumbai cruise drugs seizure case, actress Suchitra Krishnamoorthi tweeted, \"Glad to hear #AryanKhanBail has been granted.\" \"Request a central investigation into the conduct of #NCBRaids & arresting officer #SameerWankhede,\" she wrote, while adding that legal powers shouldn\\'t be \\'abused\\' for personal gains.',\n",
       "  '89': 'Actor Emraan Hashmi has said that he witnessed an exorcism as a child and called it the most frightening thing at any age. He said his mother followed Christianity and took him to church for a sermon where an exorcism was happening. \"I didn\\'t see but heard it, and I don\\'t know if it was a man or...woman,\" Emraan added.',\n",
       "  '90': 'Actor Chris Evans has said that he pinches himself every day over voicing the character Buzz Lightyear in the upcoming \\'Toy Story\\' prequel \\'Lightyear\\'. \"Anyone who knows me knows that my love for animated films runs deep,\" Chris added. The actor further said that watching the Pixar artists work is nothing short of magic.',\n",
       "  '91': 'Singer Adam Levine on Tuesday shared a video on Instagram saying he was just startled when a female fan jumped onstage and hugged him mid-concert. The singer was criticised after a TikTok video went viral showing him shaking himself as security pulled the fan away. Adam added that he does not think fans are beneath him and worships his fans.',\n",
       "  '92': 'Mahesh Manjrekar, who was diagnosed with urinary bladder cancer, said somewhere in the back of his mind he knew he\\'ll survive. \"I was prepared for it...I said I\\'d get through it,\" the 63-year-old filmmaker added. \"When I went through...chemotherapy, it didn\\'t affect me as badly as it affects a lot of people maybe because...I was prepared for it,\" said Mahesh.',\n",
       "  '93': 'Hrithik Roshan has gifted shoes to the entire action team of his forthcoming film \\'Vikram Vedha\\'. One of the stuntmen took to Instagram to share a picture of the shoes and thanked the actor for the \"perfect gift\". Hrithik recently wrapped up the first action sequence of \\'Vikram Vedha\\' in Abu Dhabi. The film is a remake of Tamil movie.',\n",
       "  '94': 'Actor Tahir Raj Bhasin has said his upcoming film, \\'83\\', is director Kabir Khan\\'s labour of love and passion for the Indian cricket team. \"It\\'s a film about how underdog India went on to become world champions,\" he added. The film, based on India\\'s win in the 1983 Cricket World Cup, will arrive in theatres on Christmas this year.',\n",
       "  '95': 'Actress Malvika Raaj, who gained popularity for playing the younger version of Poo in \\'Kabhi Khushi Kabhie Gham\\', will be making her lead debut in upcoming action film \\'Squad\\'. The actress portrays a sniper shooter in the film. \"The film revolves around a little Indian girl, who we rescue and bring back to our country [against] all odds,\" Malvika said.',\n",
       "  '96': 'Suriya and director Bala are teaming up for a project. The actor took to Twitter to share the news and wrote, \"The man who has more faith in me than myself...He\\'s the one who introduced me to a whole new world and gave me an identity.\" They have previously worked together in projects like \\'Nandha\\', \\'Pithamagan\\', \\'Avan Ivan\\' and \\'Mayaavi\\'.',\n",
       "  '97': 'Actress Shraddha Kapoor in an interview has said that she doesn\\'t think that all the rumours about her personal life take away the focus from her work. \"I have never really spoken much about my personal life anyway,\" she added. The actress further said that she is shooting for an untitled Luv Ranjan directorial with Ranbir Kapoor and Dimple Kapadia.',\n",
       "  '98': 'Bigg Boss 13 fame and news anchor Shefali Bagga, who was admitted to the ICU of a hospital after being diagnosed with dengue, said that she has recovered from the disease and doing fine now. She also shared a picture of herself from the hospital on Thursday. \"This was...first time in my life that I was admitted in...hospital,\" Shefali added.',\n",
       "  '99': 'Actor Ali Fazal has revealed that his wedding plans with actress Richa Chadha were delayed due to the pandemic in 2020 but they are looking at February 2022 now. He added that they had hoped for things to improve in 2021. \"We were planning it around the time the second wave came...[so] we couldn\\'t go ahead with it,\" Ali said.'},\n",
       " 'category': {'0': 'business',\n",
       "  '1': 'business',\n",
       "  '2': 'business',\n",
       "  '3': 'business',\n",
       "  '4': 'business',\n",
       "  '5': 'business',\n",
       "  '6': 'business',\n",
       "  '7': 'business',\n",
       "  '8': 'business',\n",
       "  '9': 'business',\n",
       "  '10': 'business',\n",
       "  '11': 'business',\n",
       "  '12': 'business',\n",
       "  '13': 'business',\n",
       "  '14': 'business',\n",
       "  '15': 'business',\n",
       "  '16': 'business',\n",
       "  '17': 'business',\n",
       "  '18': 'business',\n",
       "  '19': 'business',\n",
       "  '20': 'business',\n",
       "  '21': 'business',\n",
       "  '22': 'business',\n",
       "  '23': 'business',\n",
       "  '24': 'business',\n",
       "  '25': 'sports',\n",
       "  '26': 'sports',\n",
       "  '27': 'sports',\n",
       "  '28': 'sports',\n",
       "  '29': 'sports',\n",
       "  '30': 'sports',\n",
       "  '31': 'sports',\n",
       "  '32': 'sports',\n",
       "  '33': 'sports',\n",
       "  '34': 'sports',\n",
       "  '35': 'sports',\n",
       "  '36': 'sports',\n",
       "  '37': 'sports',\n",
       "  '38': 'sports',\n",
       "  '39': 'sports',\n",
       "  '40': 'sports',\n",
       "  '41': 'sports',\n",
       "  '42': 'sports',\n",
       "  '43': 'sports',\n",
       "  '44': 'sports',\n",
       "  '45': 'sports',\n",
       "  '46': 'sports',\n",
       "  '47': 'sports',\n",
       "  '48': 'sports',\n",
       "  '49': 'sports',\n",
       "  '50': 'technology',\n",
       "  '51': 'technology',\n",
       "  '52': 'technology',\n",
       "  '53': 'technology',\n",
       "  '54': 'technology',\n",
       "  '55': 'technology',\n",
       "  '56': 'technology',\n",
       "  '57': 'technology',\n",
       "  '58': 'technology',\n",
       "  '59': 'technology',\n",
       "  '60': 'technology',\n",
       "  '61': 'technology',\n",
       "  '62': 'technology',\n",
       "  '63': 'technology',\n",
       "  '64': 'technology',\n",
       "  '65': 'technology',\n",
       "  '66': 'technology',\n",
       "  '67': 'technology',\n",
       "  '68': 'technology',\n",
       "  '69': 'technology',\n",
       "  '70': 'technology',\n",
       "  '71': 'technology',\n",
       "  '72': 'technology',\n",
       "  '73': 'technology',\n",
       "  '74': 'technology',\n",
       "  '75': 'entertainment',\n",
       "  '76': 'entertainment',\n",
       "  '77': 'entertainment',\n",
       "  '78': 'entertainment',\n",
       "  '79': 'entertainment',\n",
       "  '80': 'entertainment',\n",
       "  '81': 'entertainment',\n",
       "  '82': 'entertainment',\n",
       "  '83': 'entertainment',\n",
       "  '84': 'entertainment',\n",
       "  '85': 'entertainment',\n",
       "  '86': 'entertainment',\n",
       "  '87': 'entertainment',\n",
       "  '88': 'entertainment',\n",
       "  '89': 'entertainment',\n",
       "  '90': 'entertainment',\n",
       "  '91': 'entertainment',\n",
       "  '92': 'entertainment',\n",
       "  '93': 'entertainment',\n",
       "  '94': 'entertainment',\n",
       "  '95': 'entertainment',\n",
       "  '96': 'entertainment',\n",
       "  '97': 'entertainment',\n",
       "  '98': 'entertainment',\n",
       "  '99': 'entertainment'}}"
      ]
     },
     "execution_count": 77,
     "metadata": {},
     "output_type": "execute_result"
    }
   ],
   "source": [
    "data"
   ]
  },
  {
   "cell_type": "markdown",
   "id": "f8a653d6",
   "metadata": {},
   "source": [
    "### Make another dataframe for the Codeup blog posts. Name the dataframe codeup_df."
   ]
  },
  {
   "cell_type": "code",
   "execution_count": null,
   "id": "445370fd",
   "metadata": {},
   "outputs": [],
   "source": []
  },
  {
   "cell_type": "markdown",
   "id": "5315429b",
   "metadata": {},
   "source": [
    "### For each dataframe, produce the following columns:\n",
    "    - title to hold the title\n",
    "    - original to hold the original article/post content\n",
    "    - clean to hold the normalized and tokenized original with the stopwords removed.\n",
    "    - stemmed to hold the stemmed version of the cleaned data.\n",
    "    - lemmatized to hold the lemmatized version of the cleaned data."
   ]
  },
  {
   "cell_type": "code",
   "execution_count": null,
   "id": "25a60a92",
   "metadata": {},
   "outputs": [],
   "source": []
  },
  {
   "cell_type": "markdown",
   "id": "82259f41",
   "metadata": {},
   "source": [
    "# Ask yourself:\n",
    "\n",
    "    If your string is 493KB, would you prefer to use stemmed or lemmatized text?\n",
    "    If your string is 25MB, would you prefer to use stemmed or lemmatized text?\n",
    "    If your string is 200TB of text and you're charged by the megabyte for your hosted computational resources, would you prefer to use stemmed or lemmatized text?"
   ]
  },
  {
   "cell_type": "code",
   "execution_count": null,
   "id": "ba81019c",
   "metadata": {},
   "outputs": [],
   "source": []
  }
 ],
 "metadata": {
  "kernelspec": {
   "display_name": "Python 3",
   "language": "python",
   "name": "python3"
  },
  "language_info": {
   "codemirror_mode": {
    "name": "ipython",
    "version": 3
   },
   "file_extension": ".py",
   "mimetype": "text/x-python",
   "name": "python",
   "nbconvert_exporter": "python",
   "pygments_lexer": "ipython3",
   "version": "3.8.8"
  }
 },
 "nbformat": 4,
 "nbformat_minor": 5
}
